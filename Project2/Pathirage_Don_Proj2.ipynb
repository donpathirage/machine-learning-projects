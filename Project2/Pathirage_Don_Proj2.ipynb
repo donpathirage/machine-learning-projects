{
 "cells": [
  {
   "cell_type": "code",
   "execution_count": 1,
   "metadata": {},
   "outputs": [],
   "source": [
    "import numpy as np\n",
    "import pandas as pd\n",
    "import matplotlib.pyplot as plt\n",
    "\n",
    "#################################################\n",
    "N = 10\n",
    "\n",
    "x_train = np.random.uniform(0,1,N)   #Predictors\n",
    "\n",
    "e = 0.3 * np.random.randn(1,10)\n",
    "\n",
    "t_train = np.sin(2*np.pi*x_train) + e       #Targets\n",
    "\n",
    "z = np.linspace(-1,1,10)\n",
    "\n",
    "#################################################\n",
    "\n",
    "x_test = np.random.uniform(0,1,100)   #Predictors\n",
    "\n",
    "e = 0.3 * np.random.randn(1,100)\n",
    "\n",
    "t_test = np.sin(2*np.pi*x_test) + e       #Targets\n",
    "\n",
    "z = np.linspace(-1,1,100)\n",
    "\n",
    "#################################################\n"
   ]
  },
  {
   "cell_type": "code",
   "execution_count": 339,
   "metadata": {},
   "outputs": [
    {
     "name": "stdout",
     "output_type": "stream",
     "text": [
      "[[1.65984903e-01 2.75509881e-02 4.57304810e-03 1.00000000e+00]\n",
      " [3.61656057e-02 1.30795104e-03 4.73028415e-05 1.00000000e+00]\n",
      " [8.37977813e-01 7.02206815e-01 5.88433732e-01 1.00000000e+00]\n",
      " [6.48369806e-01 4.20383405e-01 2.72563907e-01 1.00000000e+00]\n",
      " [6.92265487e-01 4.79231505e-01 3.31755431e-01 1.00000000e+00]\n",
      " [2.14640748e-01 4.60706508e-02 9.88863897e-03 1.00000000e+00]\n",
      " [5.23608324e-01 2.74165677e-01 1.43555431e-01 1.00000000e+00]\n",
      " [4.97103234e-01 2.47111625e-01 1.22839988e-01 1.00000000e+00]\n",
      " [4.02888175e-01 1.62318881e-01 6.53963579e-02 1.00000000e+00]\n",
      " [7.93464112e-01 6.29585296e-01 4.99553338e-01 1.00000000e+00]]\n"
     ]
    }
   ],
   "source": [
    "#Polynomial Fitting on training data\n",
    "\n",
    "M = 3\n",
    "\n",
    "x_train = np.reshape(np.mat(x_train),(N,1))\n",
    "X_train = np.ones((N,M+1))\n",
    "    \n",
    "for j in range(M+1):\n",
    "        \n",
    "    X_train[0:,(M-(1+j)):(M-j)] = np.power(x_train[0:],M-j)   #Create Design Matrix for each M\n",
    "\n",
    "print(X_train)\n"
   ]
  },
  {
   "cell_type": "code",
   "execution_count": null,
   "metadata": {},
   "outputs": [],
   "source": []
  },
  {
   "cell_type": "code",
   "execution_count": 79,
   "metadata": {},
   "outputs": [],
   "source": [
    "#X_train = np.mat(X_train)\n",
    "#T_Train = np.mat(T_train)\n",
    "\n",
    "def guess(w,x):  #Prediction\n",
    "    return w[0] + w[1]*x\n"
   ]
  },
  {
   "cell_type": "code",
   "execution_count": 4,
   "metadata": {},
   "outputs": [],
   "source": [
    "def cost(X,T,w):  #Cost\n",
    "    J = np.sum(np.power(T-X@w,2))"
   ]
  },
  {
   "cell_type": "code",
   "execution_count": 5,
   "metadata": {},
   "outputs": [],
   "source": [
    "def gradient(t,X,w):  #Compute gradient\n",
    "\n",
    "    grad = 2 * w.T @ X.T @ X - 2*t@X  #Correct?\n",
    "    \n",
    "#     1,2 * 2,10 * 10,2 - 10,1 * 10,2\n",
    "     \n",
    "    return grad.T"
   ]
  },
  {
   "cell_type": "code",
   "execution_count": 6,
   "metadata": {},
   "outputs": [],
   "source": [
    "# gradient(T_train,X_train,np.random.randn(2,1))"
   ]
  },
  {
   "cell_type": "code",
   "execution_count": 7,
   "metadata": {},
   "outputs": [],
   "source": [
    "def gradientDescent(X,T,rho,epochs):  #Find gradient descent solution\n",
    "    weight = np.random.randn(2,1)\n",
    "    e = []\n",
    "\n",
    "    for i in range(epochs):\n",
    "        grad = gradient(T,X,weight)\n",
    "        ce = cost(X,T,weight)\n",
    "        \n",
    "        weight = weight-rho*grad\n",
    "        e.append(ce)\n",
    "        \n",
    "    return weight"
   ]
  },
  {
   "cell_type": "code",
   "execution_count": 8,
   "metadata": {},
   "outputs": [
    {
     "ename": "NameError",
     "evalue": "name 'X_train' is not defined",
     "output_type": "error",
     "traceback": [
      "\u001b[1;31m---------------------------------------------------------------------------\u001b[0m",
      "\u001b[1;31mNameError\u001b[0m                                 Traceback (most recent call last)",
      "\u001b[1;32m<ipython-input-8-644128275a92>\u001b[0m in \u001b[0;36m<module>\u001b[1;34m\u001b[0m\n\u001b[1;32m----> 1\u001b[1;33m \u001b[0mweight\u001b[0m \u001b[1;33m=\u001b[0m \u001b[0mgradientDescent\u001b[0m\u001b[1;33m(\u001b[0m\u001b[0mX_train\u001b[0m\u001b[1;33m,\u001b[0m\u001b[0mT_train\u001b[0m\u001b[1;33m,\u001b[0m\u001b[0mrho\u001b[0m\u001b[1;33m=\u001b[0m\u001b[1;36m1e-3\u001b[0m\u001b[1;33m,\u001b[0m\u001b[0mepochs\u001b[0m\u001b[1;33m=\u001b[0m\u001b[1;36m5000\u001b[0m\u001b[1;33m)\u001b[0m\u001b[1;33m\u001b[0m\u001b[1;33m\u001b[0m\u001b[0m\n\u001b[0m",
      "\u001b[1;31mNameError\u001b[0m: name 'X_train' is not defined"
     ]
    }
   ],
   "source": [
    "weight = gradientDescent(X_train,T_train,rho=1e-3,epochs=5000)"
   ]
  },
  {
   "cell_type": "code",
   "execution_count": 9,
   "metadata": {},
   "outputs": [
    {
     "ename": "NameError",
     "evalue": "name 'X_train' is not defined",
     "output_type": "error",
     "traceback": [
      "\u001b[1;31m---------------------------------------------------------------------------\u001b[0m",
      "\u001b[1;31mNameError\u001b[0m                                 Traceback (most recent call last)",
      "\u001b[1;32m<ipython-input-9-503f2ffa716a>\u001b[0m in \u001b[0;36m<module>\u001b[1;34m\u001b[0m\n\u001b[1;32m----> 1\u001b[1;33m \u001b[0my2\u001b[0m \u001b[1;33m=\u001b[0m \u001b[0mnp\u001b[0m\u001b[1;33m.\u001b[0m\u001b[0mdot\u001b[0m\u001b[1;33m(\u001b[0m\u001b[0mX_train\u001b[0m\u001b[1;33m,\u001b[0m\u001b[0mweight\u001b[0m\u001b[1;33m)\u001b[0m\u001b[1;33m\u001b[0m\u001b[1;33m\u001b[0m\u001b[0m\n\u001b[0m\u001b[0;32m      2\u001b[0m \u001b[1;33m\u001b[0m\u001b[0m\n\u001b[0;32m      3\u001b[0m \u001b[0mplt\u001b[0m\u001b[1;33m.\u001b[0m\u001b[0mfigure\u001b[0m\u001b[1;33m(\u001b[0m\u001b[1;36m2\u001b[0m\u001b[1;33m)\u001b[0m       \u001b[1;31m#Plot gradient descent solution\u001b[0m\u001b[1;33m\u001b[0m\u001b[1;33m\u001b[0m\u001b[0m\n\u001b[0;32m      4\u001b[0m \u001b[1;31m#plt.scatter(z,t)\u001b[0m\u001b[1;33m\u001b[0m\u001b[1;33m\u001b[0m\u001b[1;33m\u001b[0m\u001b[0m\n\u001b[0;32m      5\u001b[0m \u001b[1;31m# x3 = np.linspace(0,1,10).reshape(10,1)\u001b[0m\u001b[1;33m\u001b[0m\u001b[1;33m\u001b[0m\u001b[1;33m\u001b[0m\u001b[0m\n",
      "\u001b[1;31mNameError\u001b[0m: name 'X_train' is not defined"
     ]
    }
   ],
   "source": [
    "y2 = np.dot(X_train,weight)\n",
    "\n",
    "plt.figure(2)       #Plot gradient descent solution\n",
    "#plt.scatter(z,t)\n",
    "# x3 = np.linspace(0,1,10).reshape(10,1)\n",
    "# x3 = np.hstack((x3,np.ones([10,1])))\n",
    "\n",
    "# y3 = x3*weight\n",
    "\n",
    "# plt.plot(x3[:,0],y3,color = 'red')\n",
    "# plt.title(\"Gradient Descent Solution\")\n",
    "# plt.xlabel('Weight')\n",
    "# plt.ylabel('Horsepower')\n",
    "# plt.legend(['weights: ' + str(weights)])\n",
    "# plt.show()"
   ]
  },
  {
   "cell_type": "code",
   "execution_count": 10,
   "metadata": {},
   "outputs": [
    {
     "data": {
      "text/plain": [
       "array([[ 0.73337937, -0.11096796, -1.1122924 , -0.40209003, -1.07379864,\n",
       "         1.17507919,  0.10762396, -0.05898088,  0.42483412, -0.94918125]])"
      ]
     },
     "execution_count": 10,
     "metadata": {},
     "output_type": "execute_result"
    }
   ],
   "source": [
    "T_train\n"
   ]
  },
  {
   "cell_type": "code",
   "execution_count": 24,
   "metadata": {},
   "outputs": [],
   "source": [
    "\n",
    "X_train = np.zeros((N,M+1))"
   ]
  },
  {
   "cell_type": "code",
   "execution_count": 116,
   "metadata": {},
   "outputs": [
    {
     "data": {
      "text/plain": [
       "matrix([[0.1659849 , 0.03616561, 0.83797781, 0.64836981, 0.69226549,\n",
       "         0.21464075, 0.52360832, 0.49710323, 0.40288817, 0.79346411]])"
      ]
     },
     "execution_count": 116,
     "metadata": {},
     "output_type": "execute_result"
    }
   ],
   "source": [
    "x_train"
   ]
  },
  {
   "cell_type": "code",
   "execution_count": 75,
   "metadata": {},
   "outputs": [
    {
     "data": {
      "text/plain": [
       "(10, 2)"
      ]
     },
     "execution_count": 75,
     "metadata": {},
     "output_type": "execute_result"
    }
   ],
   "source": []
  },
  {
   "cell_type": "code",
   "execution_count": null,
   "metadata": {},
   "outputs": [],
   "source": []
  }
 ],
 "metadata": {
  "kernelspec": {
   "display_name": "Python 3",
   "language": "python",
   "name": "python3"
  },
  "language_info": {
   "codemirror_mode": {
    "name": "ipython",
    "version": 3
   },
   "file_extension": ".py",
   "mimetype": "text/x-python",
   "name": "python",
   "nbconvert_exporter": "python",
   "pygments_lexer": "ipython3",
   "version": "3.6.8"
  }
 },
 "nbformat": 4,
 "nbformat_minor": 2
}
