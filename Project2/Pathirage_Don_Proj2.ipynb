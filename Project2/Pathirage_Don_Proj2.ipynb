{
 "cells": [
  {
   "cell_type": "code",
   "execution_count": 124,
   "metadata": {},
   "outputs": [],
   "source": [
    "import numpy as np\n",
    "import pandas as pd\n",
    "import matplotlib.pyplot as plt\n",
    "np.random.seed(6555)"
   ]
  },
  {
   "cell_type": "code",
   "execution_count": 125,
   "metadata": {},
   "outputs": [],
   "source": [
    "#################################################\n",
    "N_train = 10\n",
    "\n",
    "x_train = np.random.uniform(0,1,N_train).reshape(N_train,1)  #Predictors\n",
    "\n",
    "e = 0.3 * np.random.randn(N_train,1)\n",
    "\n",
    "t_train = np.sin(2*np.pi*x_train) + e   #Targets\n",
    "\n",
    "#################################################\n",
    "N_test = 100\n",
    "\n",
    "x_test = np.random.uniform(0,1,N_test).reshape(N_test,1)   #Predictors\n",
    "\n",
    "e = 0.3 * np.random.randn(N_test,1)\n",
    "\n",
    "t_test = np.sin(2*np.pi*x_test) + e       #Targets\n"
   ]
  },
  {
   "cell_type": "code",
   "execution_count": 126,
   "metadata": {},
   "outputs": [],
   "source": [
    "def designMatrix(x,M):\n",
    "    \n",
    "    if M == 0:\n",
    "        return x\n",
    "    \n",
    "    else:\n",
    "        X = np.hstack((np.ones([len(x),1]), x))\n",
    "    \n",
    "        for i in range(2, M+1):\n",
    "            X = np.hstack((X,(x)**i))\n",
    "        \n",
    "        return X"
   ]
  },
  {
   "cell_type": "code",
   "execution_count": 127,
   "metadata": {},
   "outputs": [],
   "source": [
    "def cost(w,x,t):\n",
    "    return np.sum(np.power(x@w-t,2))"
   ]
  },
  {
   "cell_type": "code",
   "execution_count": 128,
   "metadata": {},
   "outputs": [],
   "source": [
    "def closedForm(x,t):\n",
    "    return np.dot(np.dot(np.linalg.inv(np.dot(x.T,x)),x.T),t)"
   ]
  },
  {
   "cell_type": "code",
   "execution_count": 129,
   "metadata": {},
   "outputs": [],
   "source": [
    "####### N = 10 Train #######\n",
    "error_train = np.zeros((10,1))\n",
    "error_test = np.zeros((10,1))\n",
    "M = 9\n",
    "for i in range(M+1):\n",
    "    X_train = designMatrix(x_train,i)\n",
    "    X_test = designMatrix(x_test,i)\n",
    "    weights_train = closedForm(X_train,t_train)\n",
    "    error_train[i] = cost(weights_train,X_train,t_train)\n",
    "    error_test[i] = cost(weights_train,X_test,t_test)\n",
    "    \n",
    "error_test = np.sqrt(error_test/N_test)\n",
    "error_train = np.sqrt(error_train/N_train)\n"
   ]
  },
  {
   "cell_type": "code",
   "execution_count": 130,
   "metadata": {},
   "outputs": [
    {
     "data": {
      "text/plain": [
       "Text(0, 0.5, 'Error')"
      ]
     },
     "execution_count": 130,
     "metadata": {},
     "output_type": "execute_result"
    },
    {
     "data": {
      "image/png": "[encoded data removed]",
      "text/plain": [
       "<Figure size 432x288 with 1 Axes>"
      ]
     },
     "metadata": {
      "needs_background": "light"
     },
     "output_type": "display_data"
    }
   ],
   "source": [
    "plt.figure(1)      ##Plot N = 10 Error\n",
    "m = np.linspace(0,9,M+1)\n",
    "plt.plot(m,error_train,'-o', color = 'blue', label = 'Training')\n",
    "plt.plot(m,error_test,'-o', color = 'red', label = \"Test\")\n",
    "plt.legend()\n",
    "plt.title(\"Linear Regression with Polynomial Fitting\\nN=10\")\n",
    "plt.xlabel('M')\n",
    "plt.ylabel('Error')"
   ]
  },
  {
   "cell_type": "code",
   "execution_count": 131,
   "metadata": {},
   "outputs": [],
   "source": [
    "####### N = 100 Train #######\n",
    "N_train = 100\n",
    "\n",
    "x_train = np.random.uniform(0,1,N_train).reshape(N_train,1)\n",
    "\n",
    "e = 0.3 * np.random.randn(N_train,1)\n",
    "\n",
    "t_train = np.sin(2*np.pi*x_train) + e\n",
    "\n",
    "error_train = np.zeros((10,1))\n",
    "error_test = np.zeros((10,1))\n",
    "M = 9\n",
    "for i in range(M+1):\n",
    "    X_train = designMatrix(x_train,i)\n",
    "    X_test = designMatrix(x_test,i)\n",
    "    weights_train = closedForm(X_train,t_train)\n",
    "    error_train[i] = cost(weights_train,X_train,t_train)\n",
    "    error_test[i] = cost(weights_train,X_test,t_test)\n",
    "    \n",
    "error_test = np.sqrt(error_test/N_test)\n",
    "error_train = np.sqrt(error_train/N_train)"
   ]
  },
  {
   "cell_type": "code",
   "execution_count": 115,
   "metadata": {
    "scrolled": true
   },
   "outputs": [
    {
     "data": {
      "image/png": "[encoded data removed]",
      "text/plain": [
       "<Figure size 432x288 with 1 Axes>"
      ]
     },
     "metadata": {
      "needs_background": "light"
     },
     "output_type": "display_data"
    }
   ],
   "source": [
    "plt.figure(2)            ##Plot N = 100 Error\n",
    "m = np.linspace(0,9,M+1)\n",
    "plt.plot(m,error_train,'-o', color = 'blue', label = 'Training')\n",
    "plt.plot(m,error_test,'-o', color = 'red', label = \"Test\")\n",
    "plt.legend()\n",
    "plt.title(\"Linear Regression with Polynomial Fitting\\nN=100\")\n",
    "plt.xlabel('M')\n",
    "plt.ylabel('Error')\n",
    "plt.show()"
   ]
  },
  {
   "cell_type": "code",
   "execution_count": null,
   "metadata": {},
   "outputs": [],
   "source": []
  }
 ],
 "metadata": {
  "kernelspec": {
   "display_name": "Python 3",
   "language": "python",
   "name": "python3"
  },
  "language_info": {
   "codemirror_mode": {
    "name": "ipython",
    "version": 3
   },
   "file_extension": ".py",
   "mimetype": "text/x-python",
   "name": "python",
   "nbconvert_exporter": "python",
   "pygments_lexer": "ipython3",
   "version": "3.6.8"
  }
 },
 "nbformat": 4,
 "nbformat_minor": 2
}
