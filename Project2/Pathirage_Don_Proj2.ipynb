{
 "cells": [
  {
   "cell_type": "code",
   "execution_count": 439,
   "metadata": {},
   "outputs": [],
   "source": [
    "import numpy as np\n",
    "import pandas as pd\n",
    "import matplotlib.pyplot as plt\n",
    "\n",
    "#################################################\n",
    "N = 10\n",
    "\n",
    "x_train = np.random.uniform(0,1,N)   #Predictors\n",
    "\n",
    "e = 0.3 * np.random.randn(1,10)\n",
    "\n",
    "t_train = np.sin(2*np.pi*x_train) + e       #Targets\n",
    "\n",
    "z1 = np.linspace(-1,1,10)\n",
    "\n",
    "#################################################\n",
    "\n",
    "x_test = np.random.uniform(0,1,100)   #Predictors\n",
    "\n",
    "e = 0.3 * np.random.randn(1,100)\n",
    "\n",
    "t_test = np.sin(2*np.pi*x_test) + e       #Targets\n",
    "\n",
    "z = np.linspace(-1,1,100)\n",
    "\n",
    "#################################################\n"
   ]
  },
  {
   "cell_type": "code",
   "execution_count": 440,
   "metadata": {},
   "outputs": [],
   "source": [
    "k = np.max(x_train)\n",
    "x_train = x_train / k"
   ]
  },
  {
   "cell_type": "code",
   "execution_count": 441,
   "metadata": {},
   "outputs": [],
   "source": [
    "def guess(w,x):  #Prediction\n",
    "    return w[0] + w[1]*x"
   ]
  },
  {
   "cell_type": "code",
   "execution_count": 442,
   "metadata": {},
   "outputs": [],
   "source": [
    "def cost(X,T,w):  #Cost\n",
    "    J = np.sum(np.power(T-X@w,2))"
   ]
  },
  {
   "cell_type": "code",
   "execution_count": 443,
   "metadata": {},
   "outputs": [],
   "source": [
    "def gradient(t,X,w):  #Compute gradient\n",
    "\n",
    "    grad = 2 * w.T @ X.T @ X - 2*t@X\n",
    "     \n",
    "    return grad.T"
   ]
  },
  {
   "cell_type": "code",
   "execution_count": 444,
   "metadata": {},
   "outputs": [],
   "source": [
    "def gradientDescent(X,T,M,rho,epochs):  #Find gradient descent solution\n",
    "    weight = np.random.randn(M+1,1)\n",
    "    e = []\n",
    "\n",
    "    for i in range(epochs):\n",
    "        grad = gradient(T,X,weight)\n",
    "        ce = cost(X,T,weight)\n",
    "        \n",
    "        weight = weight-rho*grad\n",
    "        e.append(ce)\n",
    "        \n",
    "    return weight"
   ]
  },
  {
   "cell_type": "code",
   "execution_count": 523,
   "metadata": {},
   "outputs": [
    {
     "name": "stdout",
     "output_type": "stream",
     "text": [
      "[[0.46628299 1.        ]\n",
      " [0.47619535 1.        ]\n",
      " [0.13460294 1.        ]\n",
      " [1.         1.        ]\n",
      " [0.36938976 1.        ]\n",
      " [0.30469833 1.        ]\n",
      " [0.74343132 1.        ]\n",
      " [0.26251146 1.        ]\n",
      " [0.11236103 1.        ]\n",
      " [0.71968313 1.        ]]\n"
     ]
    }
   ],
   "source": [
    "#Polynomial Fitting on training data\n",
    "\n",
    "M = 1\n",
    "\n",
    "x_train = np.reshape(np.mat(x_train),(N,1))\n",
    "if M == 0:\n",
    "    X_train = np.ones((N,M+2))\n",
    "else:\n",
    "    X_train = np.ones((N,M+1))\n",
    "    \n",
    "for j in range(M):\n",
    "        \n",
    "    X_train[0:,(M-(1+j)):(M-j)] = np.power(x_train[0:],M-j)   #Create Design Matrix for each M\n",
    "        \n",
    "\n",
    "print(X_train)\n"
   ]
  },
  {
   "cell_type": "code",
   "execution_count": 524,
   "metadata": {},
   "outputs": [],
   "source": [
    "weights = gradientDescent(X_train,T_train,M,rho=1e-3,epochs=5000)"
   ]
  },
  {
   "cell_type": "code",
   "execution_count": 525,
   "metadata": {},
   "outputs": [
    {
     "data": {
      "image/png": "[encoded data removed]",
      "text/plain": [
       "<Figure size 432x288 with 1 Axes>"
      ]
     },
     "metadata": {
      "needs_background": "light"
     },
     "output_type": "display_data"
    }
   ],
   "source": [
    "#y2 = np.dot(X_train,weights)\n",
    "weights = weights / k\n",
    "\n",
    "plt.figure(2)       #Plot gradient descent solution\n",
    "plt.scatter(z1,t_train)\n",
    "x2 = np.linspace(-1,1,N).reshape(N,1)\n",
    "x2 = np.hstack((x2,np.ones([N,M])))\n",
    "\n",
    "y3 = X_train@weights\n",
    "\n",
    "plt.plot(x2[:,0],y3,color = 'red')\n",
    "plt.title(\"Gradient Descent Solution\")\n",
    "plt.xlabel('Predictor')\n",
    "plt.ylabel('Target')\n",
    "#plt.legend(['weights: ' + str(weights)])\n",
    "plt.show()"
   ]
  },
  {
   "cell_type": "code",
   "execution_count": 527,
   "metadata": {},
   "outputs": [
    {
     "data": {
      "text/plain": [
       "array([[-0.4645422],\n",
       "       [ 0.0644522]])"
      ]
     },
     "execution_count": 527,
     "metadata": {},
     "output_type": "execute_result"
    }
   ],
   "source": [
    "weights\n"
   ]
  },
  {
   "cell_type": "code",
   "execution_count": 398,
   "metadata": {},
   "outputs": [
    {
     "data": {
      "text/plain": [
       "array([[0.69041483, 0.47667264, 1.        ],\n",
       "       [0.04000793, 0.00160063, 1.        ],\n",
       "       [0.76706674, 0.58839139, 1.        ],\n",
       "       [0.49891794, 0.24891911, 1.        ],\n",
       "       [0.61023305, 0.37238438, 1.        ],\n",
       "       [0.92135084, 0.84888738, 1.        ],\n",
       "       [0.74869637, 0.56054625, 1.        ],\n",
       "       [0.09239726, 0.00853725, 1.        ],\n",
       "       [0.32845009, 0.10787946, 1.        ],\n",
       "       [0.3277024 , 0.10738887, 1.        ]])"
      ]
     },
     "execution_count": 398,
     "metadata": {},
     "output_type": "execute_result"
    }
   ],
   "source": [
    "X_train"
   ]
  },
  {
   "cell_type": "code",
   "execution_count": 403,
   "metadata": {},
   "outputs": [
    {
     "data": {
      "text/plain": [
       "array([[-0.3490736 ],\n",
       "       [ 1.07484628],\n",
       "       [-0.30961775]])"
      ]
     },
     "execution_count": 403,
     "metadata": {},
     "output_type": "execute_result"
    }
   ],
   "source": [
    "weights"
   ]
  },
  {
   "cell_type": "code",
   "execution_count": 404,
   "metadata": {},
   "outputs": [
    {
     "data": {
      "text/plain": [
       "array([[-0.03827352],\n",
       "       [-0.32186303],\n",
       "       [ 0.05504979],\n",
       "       [-0.21622705],\n",
       "       [-0.12237803],\n",
       "       [ 0.28118644],\n",
       "       [ 0.03153317],\n",
       "       [-0.33269496],\n",
       "       [-0.30831717],\n",
       "       [-0.30858348]])"
      ]
     },
     "execution_count": 404,
     "metadata": {},
     "output_type": "execute_result"
    }
   ],
   "source": [
    "y2"
   ]
  },
  {
   "cell_type": "code",
   "execution_count": null,
   "metadata": {},
   "outputs": [],
   "source": []
  }
 ],
 "metadata": {
  "kernelspec": {
   "display_name": "Python 3",
   "language": "python",
   "name": "python3"
  },
  "language_info": {
   "codemirror_mode": {
    "name": "ipython",
    "version": 3
   },
   "file_extension": ".py",
   "mimetype": "text/x-python",
   "name": "python",
   "nbconvert_exporter": "python",
   "pygments_lexer": "ipython3",
   "version": "3.6.8"
  }
 },
 "nbformat": 4,
 "nbformat_minor": 2
}
