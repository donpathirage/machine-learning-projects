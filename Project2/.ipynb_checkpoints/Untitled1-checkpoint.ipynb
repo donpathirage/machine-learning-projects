{
 "cells": [
  {
   "cell_type": "code",
   "execution_count": 1,
   "metadata": {},
   "outputs": [],
   "source": [
    "# import dep\n",
    "import numpy as np\n",
    "import matplotlib.pyplot as plt"
   ]
  },
  {
   "cell_type": "code",
   "execution_count": 2,
   "metadata": {},
   "outputs": [
    {
     "data": {
      "text/plain": [
       "<matplotlib.collections.PathCollection at 0x17bf13a7710>"
      ]
     },
     "execution_count": 2,
     "metadata": {},
     "output_type": "execute_result"
    },
    {
     "data": {
      "image/png": "[encoded data removed]",
      "text/plain": [
       "<Figure size 432x288 with 1 Axes>"
      ]
     },
     "metadata": {
      "needs_background": "light"
     },
     "output_type": "display_data"
    }
   ],
   "source": [
    "N = 10\n",
    "\n",
    "x = np.random.uniform(0,1,N).reshape(N,1)\n",
    "\n",
    "e = 0.3 * np.random.randn(N,1)\n",
    "\n",
    "t = np.sin(2*np.pi*x) + e\n",
    "\n",
    "# x\n",
    "plt.scatter(x,t)"
   ]
  },
  {
   "cell_type": "code",
   "execution_count": 18,
   "metadata": {},
   "outputs": [],
   "source": [
    "def designMatrix(x,M):\n",
    "    \n",
    "    if M == 0:\n",
    "        return x\n",
    "    \n",
    "    else:\n",
    "        X = np.hstack((np.ones([len(x),1]), x))\n",
    "    \n",
    "        for i in range(2, M+1):\n",
    "            X = np.hstack((X,(x)**i))\n",
    "            print(X)\n",
    "        \n",
    "        return X"
   ]
  },
  {
   "cell_type": "code",
   "execution_count": 4,
   "metadata": {},
   "outputs": [],
   "source": [
    "def cost(w,x,t):\n",
    "    return np.sum(np.power(x@w-t,2))"
   ]
  },
  {
   "cell_type": "code",
   "execution_count": 5,
   "metadata": {},
   "outputs": [],
   "source": [
    "def training(x,t,rho,epochs,M):\n",
    "    \n",
    "    X = designMatrix(x,M)\n",
    "    w = np.random.randn(M+1,1)\n",
    "    J = cost(w,X,t)\n",
    "    \n",
    "    print('Initiale Error: ' + str(J))\n",
    "    \n",
    "    for i in range(epochs):\n",
    "        \n",
    "        grad = 2 * X.T @ X @ w - X.T @ t\n",
    "        \n",
    "        w = w - rho*grad\n",
    "        \n",
    "        J = cost(w,X,t)\n",
    "    \n",
    "#         print('Initiale Error: ' + str(J))\n",
    "    print('Final Error: ' + str(J))\n",
    "    return w"
   ]
  },
  {
   "cell_type": "code",
   "execution_count": 9,
   "metadata": {},
   "outputs": [
    {
     "name": "stdout",
     "output_type": "stream",
     "text": [
      "Initiale Error: 47.14607416878878\n",
      "Final Error: 2.3248756004025455\n"
     ]
    }
   ],
   "source": [
    "M = 10\n",
    "epochs = 100000\n",
    "rho = 1e-2\n",
    "w = training(x,t,rho,epochs,M)"
   ]
  },
  {
   "cell_type": "code",
   "execution_count": 10,
   "metadata": {},
   "outputs": [
    {
     "data": {
      "text/plain": [
       "[<matplotlib.lines.Line2D at 0x17bf1570080>]"
      ]
     },
     "execution_count": 10,
     "metadata": {},
     "output_type": "execute_result"
    },
    {
     "data": {
      "image/png": "[encoded data removed]",
      "text/plain": [
       "<Figure size 432x288 with 1 Axes>"
      ]
     },
     "metadata": {
      "needs_background": "light"
     },
     "output_type": "display_data"
    }
   ],
   "source": [
    "# Plotting\n",
    "n = 100\n",
    "x_mesh = np.linspace(0,1,n).reshape(n,1)\n",
    "# x_mesh\n",
    "X_mesh = generate_phi(x_mesh,M)\n",
    "\n",
    "y_pred = X_mesh@w\n",
    "\n",
    "plt.scatter(x,t)\n",
    "plt.plot(x_mesh,y_pred)"
   ]
  },
  {
   "cell_type": "code",
   "execution_count": 11,
   "metadata": {},
   "outputs": [],
   "source": [
    "z = np.array([1,2,3]).reshape(3,1)"
   ]
  },
  {
   "cell_type": "code",
   "execution_count": 16,
   "metadata": {},
   "outputs": [],
   "source": [
    "X = generate_phi(x,M)\n",
    "w = np.linalg.pinv(X)@t"
   ]
  },
  {
   "cell_type": "code",
   "execution_count": 17,
   "metadata": {},
   "outputs": [
    {
     "data": {
      "text/plain": [
       "[<matplotlib.lines.Line2D at 0x17bf15cc550>]"
      ]
     },
     "execution_count": 17,
     "metadata": {},
     "output_type": "execute_result"
    },
    {
     "data": {
      "image/png": "[encoded data removed]",
      "text/plain": [
       "<Figure size 432x288 with 1 Axes>"
      ]
     },
     "metadata": {
      "needs_background": "light"
     },
     "output_type": "display_data"
    }
   ],
   "source": [
    "n = 100\n",
    "x_mesh = np.linspace(0,1,n).reshape(n,1)\n",
    "# x_mesh\n",
    "X_mesh = generate_phi(x_mesh,M)\n",
    "\n",
    "y_pred = X_mesh@w\n",
    "\n",
    "plt.scatter(x,t)\n",
    "plt.plot(x_mesh,y_pred)"
   ]
  },
  {
   "cell_type": "code",
   "execution_count": 25,
   "metadata": {},
   "outputs": [
    {
     "data": {
      "text/plain": [
       "array([[0.90556391],\n",
       "       [0.0606023 ],\n",
       "       [0.49447083],\n",
       "       [0.72168558],\n",
       "       [0.56278063],\n",
       "       [0.07133104],\n",
       "       [0.16193216],\n",
       "       [0.81454834],\n",
       "       [0.43106223],\n",
       "       [0.1619866 ]])"
      ]
     },
     "execution_count": 25,
     "metadata": {},
     "output_type": "execute_result"
    }
   ],
   "source": []
  },
  {
   "cell_type": "code",
   "execution_count": null,
   "metadata": {},
   "outputs": [],
   "source": []
  }
 ],
 "metadata": {
  "kernelspec": {
   "display_name": "Python 3",
   "language": "python",
   "name": "python3"
  },
  "language_info": {
   "codemirror_mode": {
    "name": "ipython",
    "version": 3
   },
   "file_extension": ".py",
   "mimetype": "text/x-python",
   "name": "python",
   "nbconvert_exporter": "python",
   "pygments_lexer": "ipython3",
   "version": "3.6.8"
  }
 },
 "nbformat": 4,
 "nbformat_minor": 2
}
