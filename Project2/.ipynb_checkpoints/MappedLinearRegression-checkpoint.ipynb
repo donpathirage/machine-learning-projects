{
 "cells": [
  {
   "cell_type": "code",
   "execution_count": 53,
   "metadata": {},
   "outputs": [],
   "source": [
    "import numpy as np\n",
    "import pandas as pd\n",
    "import matplotlib.pyplot as plt\n",
    "np.random.seed(6555)\n",
    "import time"
   ]
  },
  {
   "cell_type": "code",
   "execution_count": 13,
   "metadata": {},
   "outputs": [],
   "source": [
    "#################################################\n",
    "N_test = 100\n",
    "\n",
    "x_test = np.random.uniform(0,1,N_test).reshape(N_test,1)   #Predictors\n",
    "\n",
    "e = 0.3 * np.random.randn(N_test,1)\n",
    "\n",
    "t_test = np.sin(2*np.pi*x_test) + e       #Targets\n"
   ]
  },
  {
   "cell_type": "code",
   "execution_count": 14,
   "metadata": {},
   "outputs": [],
   "source": [
    "def designMatrix(x,M):\n",
    "    \n",
    "    if M == 0:\n",
    "        return x\n",
    "    \n",
    "    else:\n",
    "        X = np.hstack((np.ones([len(x),1]), x))\n",
    "    \n",
    "        for i in range(2, M+1):\n",
    "            X = np.hstack((X,(x)**i))\n",
    "        \n",
    "        return X"
   ]
  },
  {
   "cell_type": "code",
   "execution_count": 15,
   "metadata": {},
   "outputs": [],
   "source": [
    "def cost(w,x,t):\n",
    "    return np.sum(np.power(x@w-t,2))"
   ]
  },
  {
   "cell_type": "code",
   "execution_count": 33,
   "metadata": {},
   "outputs": [],
   "source": [
    "def closedForm(x,t):\n",
    "    return np.dot(np.dot(np.linalg.inv(np.dot(x.T,x)),x.T),t)"
   ]
  },
  {
   "cell_type": "code",
   "execution_count": 17,
   "metadata": {},
   "outputs": [],
   "source": [
    "def gradientDescent(x,t,M,rho,epochs,plot):\n",
    "    \n",
    "    m = 2/len(t)\n",
    "    \n",
    "    X = designMatrix(x,M)\n",
    "    x2 = designMatrix(np.linspace(0,1,len(t)).reshape(len(t),1),M)\n",
    "    \n",
    "    weights = np.random.randn(M+1,1) #Random initial\n",
    "    \n",
    "    start = time.time()\n",
    "    for i in range(epochs):\n",
    "        #gradient = m * X.T@(X@weights-t)\n",
    "        gradient = m * np.dot(X.T,np.dot(X,weights)-t_train)\n",
    "        weights = weights - rho * gradient\n",
    "    end = time.time()\n",
    "    \n",
    "    print(\"M = \" + str(M) + \" Model trained in: \" + \"{:.2f}\".format(end - start) + \"s\")\n",
    "    error = cost(weights,X,t)\n",
    "    print(\"Training Error: \" + str(error))\n",
    "    \n",
    "    if plot:\n",
    "        y3 = x2@weights\n",
    "\n",
    "        plt.plot(np.linspace(0,1,len(y3)),y3,color = 'red')\n",
    "        plt.scatter(x,t)\n",
    "        plt.title(\"M = \" + str(M))\n",
    "        plt.xlabel('Predictor')\n",
    "        plt.ylabel('Target')\n",
    "        plt.show()\n",
    "    \n",
    "    return weights"
   ]
  },
  {
   "cell_type": "code",
   "execution_count": 67,
   "metadata": {},
   "outputs": [],
   "source": [
    "####### N = 10 Train #######\n",
    "np.random.seed(6555)\n",
    "N_train = 10\n",
    "\n",
    "x_train = np.random.uniform(0,1,N_train).reshape(N_train,1)  #Predictors\n",
    "\n",
    "e = 0.3 * np.random.randn(N_train,1)\n",
    "\n",
    "t_train = np.sin(2*np.pi*x_train) + e   #Targets\n",
    "\n",
    "error_train = np.zeros((10,1))\n",
    "error_test = np.zeros((10,1))\n",
    "M = 9\n",
    "for i in range(M+1):\n",
    "    weights_train = closedForm(designMatrix(x_train,i),t_train)\n",
    "    #weights_train = gradientDescent(x_train,t_train,M=i,rho=1e-1,epochs=700000,plot=False)\n",
    "    error_train[i] = cost(weights_train,designMatrix(x_train,i),t_train)\n",
    "    error_test[i] = cost(weights_train,designMatrix(x_test,i),t_test)\n",
    "    \n",
    "error_test = np.sqrt(error_test/N_test)\n",
    "error_train = np.sqrt(error_train/N_train)\n"
   ]
  },
  {
   "cell_type": "code",
   "execution_count": 68,
   "metadata": {},
   "outputs": [
    {
     "data": {
      "text/plain": [
       "Text(0, 0.5, 'Error')"
      ]
     },
     "execution_count": 68,
     "metadata": {},
     "output_type": "execute_result"
    },
    {
     "data": {
      "image/png": "[encoded data removed]",
      "text/plain": [
       "<Figure size 432x288 with 1 Axes>"
      ]
     },
     "metadata": {
      "needs_background": "light"
     },
     "output_type": "display_data"
    }
   ],
   "source": [
    "plt.figure(1)      ##Plot N = 10 Error\n",
    "m = np.linspace(0,9,M+1)\n",
    "plt.plot(m,error_train,'-o', color = 'blue', label = 'Training')\n",
    "plt.plot(m,error_test,'-o', color = 'red', label = \"Test\")\n",
    "plt.legend()\n",
    "plt.title(\"Linear Regression with Polynomial Fitting\\nN=10\")\n",
    "plt.xlabel('M')\n",
    "plt.ylabel('Error')"
   ]
  },
  {
   "cell_type": "code",
   "execution_count": 45,
   "metadata": {},
   "outputs": [
    {
     "name": "stdout",
     "output_type": "stream",
     "text": [
      "M = 0 Model trained in: 2.69s\n",
      "Training Error: 52.843289978136475\n",
      "M = 1 Model trained in: 3.02s\n",
      "Training Error: 26.23618654431226\n",
      "M = 2 Model trained in: 2.96s\n",
      "Training Error: 26.18545047162274\n",
      "M = 3 Model trained in: 3.05s\n",
      "Training Error: 9.270568458687722\n",
      "M = 4 Model trained in: 3.19s\n",
      "Training Error: 9.599788317320266\n",
      "M = 5 Model trained in: 3.03s\n",
      "Training Error: 9.04536224407102\n",
      "M = 6 Model trained in: 3.02s\n",
      "Training Error: 8.730129173247324\n",
      "M = 7 Model trained in: 3.08s\n",
      "Training Error: 8.6681960683659\n",
      "M = 8 Model trained in: 3.29s\n",
      "Training Error: 8.7031999928526\n",
      "M = 9 Model trained in: 3.18s\n",
      "Training Error: 8.753965143602525\n"
     ]
    }
   ],
   "source": [
    "####### N = 100 Train #######\n",
    "N_train = 100\n",
    "\n",
    "x_train = np.random.uniform(0,1,N_train).reshape(N_train,1)\n",
    "\n",
    "e = 0.3 * np.random.randn(N_train,1)\n",
    "\n",
    "t_train = np.sin(2*np.pi*x_train) + e\n",
    "\n",
    "error_train = np.zeros((10,1))\n",
    "error_test = np.zeros((10,1))\n",
    "M = 9\n",
    "\n",
    "for i in range(M+1):\n",
    "#     weights_train = closedForm(X_train,t_train)\n",
    "    weights_train = gradientDescent(x_train,t_train,M=i,rho=1e-1,epochs=700000,plot=False)\n",
    "    error_train[i] = cost(weights_train,designMatrix(x_train,i),t_train)\n",
    "    error_test[i] = cost(weights_train,designMatrix(x_test,i),t_test)\n",
    "    \n",
    "error_test = np.sqrt(error_test/N_test)\n",
    "error_train = np.sqrt(error_train/N_train)"
   ]
  },
  {
   "cell_type": "code",
   "execution_count": 46,
   "metadata": {
    "scrolled": true
   },
   "outputs": [
    {
     "data": {
      "image/png": "[encoded data removed]",
      "text/plain": [
       "<Figure size 432x288 with 1 Axes>"
      ]
     },
     "metadata": {
      "needs_background": "light"
     },
     "output_type": "display_data"
    }
   ],
   "source": [
    "plt.figure(2)            ##Plot N = 100 Error\n",
    "m = np.linspace(0,9,M+1)\n",
    "plt.plot(m,error_train,'-o', color = 'blue', label = 'Training')\n",
    "plt.plot(m,error_test,'-o', color = 'red', label = \"Test\")\n",
    "plt.legend()\n",
    "plt.title(\"Linear Regression with Polynomial Fitting\\nN=100\")\n",
    "plt.xlabel('M')\n",
    "plt.ylabel('Error')\n",
    "plt.show()"
   ]
  },
  {
   "cell_type": "code",
   "execution_count": null,
   "metadata": {},
   "outputs": [],
   "source": []
  }
 ],
 "metadata": {
  "kernelspec": {
   "display_name": "Python 3",
   "language": "python",
   "name": "python3"
  },
  "language_info": {
   "codemirror_mode": {
    "name": "ipython",
    "version": 3
   },
   "file_extension": ".py",
   "mimetype": "text/x-python",
   "name": "python",
   "nbconvert_exporter": "python",
   "pygments_lexer": "ipython3",
   "version": "3.6.8"
  }
 },
 "nbformat": 4,
 "nbformat_minor": 2
}
