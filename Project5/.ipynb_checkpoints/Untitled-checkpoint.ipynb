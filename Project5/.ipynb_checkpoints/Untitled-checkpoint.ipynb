{
 "cells": [
  {
   "cell_type": "code",
   "execution_count": 95,
   "metadata": {},
   "outputs": [],
   "source": [
    "import tensorflow as tf\n",
    "from tensorflow.python.keras.models import Sequential\n",
    "from tensorflow.python.keras.layers import Dense, Dropout, Activation, Flatten, Input\n",
    "import matplotlib.pyplot as plt\n",
    "import numpy as np\n",
    "from tensorflow.python.keras.datasets import cifar10\n",
    "from tensorflow.python.keras.callbacks import TensorBoard\n",
    "import pickle\n",
    "import time"
   ]
  },
  {
   "cell_type": "code",
   "execution_count": 118,
   "metadata": {},
   "outputs": [],
   "source": [
    "NAME = \"tanH-NN-{}\".format(int(time.time()))\n",
    "\n",
    "tensorboard = TensorBoard(log_dir='logs/{}'.format(NAME))\n",
    "\n",
    "model = Sequential()\n",
    "#Input\n",
    "model.add(Dense(50,input_shape=(1,)))\n",
    "#Hidden\n",
    "model.add(Dense(20))\n",
    "model.add(Activation('tanh'))\n",
    "model.add(Dense(20))\n",
    "model.add(Activation('tanh'))\n",
    "#Output\n",
    "model.add(Dense(1))\n",
    "model.add(Activation('linear'))"
   ]
  },
  {
   "cell_type": "code",
   "execution_count": 119,
   "metadata": {},
   "outputs": [
    {
     "name": "stdout",
     "output_type": "stream",
     "text": [
      "_________________________________________________________________\n",
      "Layer (type)                 Output Shape              Param #   \n",
      "=================================================================\n",
      "dense_63 (Dense)             (None, 50)                100       \n",
      "_________________________________________________________________\n",
      "dense_64 (Dense)             (None, 20)                1020      \n",
      "_________________________________________________________________\n",
      "activation_44 (Activation)   (None, 20)                0         \n",
      "_________________________________________________________________\n",
      "dense_65 (Dense)             (None, 20)                420       \n",
      "_________________________________________________________________\n",
      "activation_45 (Activation)   (None, 20)                0         \n",
      "_________________________________________________________________\n",
      "dense_66 (Dense)             (None, 1)                 21        \n",
      "_________________________________________________________________\n",
      "activation_46 (Activation)   (None, 1)                 0         \n",
      "=================================================================\n",
      "Total params: 1,561\n",
      "Trainable params: 1,561\n",
      "Non-trainable params: 0\n",
      "_________________________________________________________________\n"
     ]
    }
   ],
   "source": [
    "import keras.backend as K\n",
    "\n",
    "def mean_pred(y_true, y_pred):\n",
    "    return K.mean(y_pred)\n",
    "\n",
    "model.compile(optimizer='rmsprop',\n",
    "              loss='mean_squared_error',\n",
    "              metrics=['accuracy', mean_pred])\n",
    "model.build()\n",
    "model.summary()"
   ]
  },
  {
   "cell_type": "code",
   "execution_count": 120,
   "metadata": {},
   "outputs": [],
   "source": [
    "np.random.seed(100)\n",
    "X = np.sort(2*np.random.rand(50,1)-1)\n",
    "t = np.sin(2*(np.pi)*X) + 0.3*np.random.randn(50,1)"
   ]
  },
  {
   "cell_type": "code",
   "execution_count": 121,
   "metadata": {},
   "outputs": [
    {
     "name": "stdout",
     "output_type": "stream",
     "text": [
      "Epoch 1/50\n",
      "50/50 [==============================] - 1s 20ms/step - loss: 0.6329 - acc: 0.0000e+00 - mean_pred: 0.0029\n",
      "Epoch 2/50\n",
      "50/50 [==============================] - 0s 100us/step - loss: 0.5637 - acc: 0.0000e+00 - mean_pred: -0.0392\n",
      "Epoch 3/50\n",
      "50/50 [==============================] - 0s 99us/step - loss: 0.5477 - acc: 0.0000e+00 - mean_pred: -0.0353\n",
      "Epoch 4/50\n",
      "50/50 [==============================] - 0s 160us/step - loss: 0.5434 - acc: 0.0000e+00 - mean_pred: -0.0403\n",
      "Epoch 5/50\n",
      "50/50 [==============================] - 0s 100us/step - loss: 0.5424 - acc: 0.0000e+00 - mean_pred: -0.0397\n",
      "Epoch 6/50\n",
      "50/50 [==============================] - 0s 140us/step - loss: 0.5421 - acc: 0.0000e+00 - mean_pred: -0.0411\n",
      "Epoch 7/50\n",
      "50/50 [==============================] - 0s 119us/step - loss: 0.5419 - acc: 0.0000e+00 - mean_pred: -0.0407\n",
      "Epoch 8/50\n",
      "50/50 [==============================] - 0s 140us/step - loss: 0.5419 - acc: 0.0000e+00 - mean_pred: -0.0413\n",
      "Epoch 9/50\n",
      "50/50 [==============================] - 0s 140us/step - loss: 0.5418 - acc: 0.0000e+00 - mean_pred: -0.0410\n",
      "Epoch 10/50\n",
      "50/50 [==============================] - 0s 140us/step - loss: 0.5417 - acc: 0.0000e+00 - mean_pred: -0.0414\n",
      "Epoch 11/50\n",
      "50/50 [==============================] - 0s 140us/step - loss: 0.5416 - acc: 0.0000e+00 - mean_pred: -0.0411\n",
      "Epoch 12/50\n",
      "50/50 [==============================] - 0s 140us/step - loss: 0.5415 - acc: 0.0000e+00 - mean_pred: -0.0416\n",
      "Epoch 13/50\n",
      "50/50 [==============================] - 0s 120us/step - loss: 0.5414 - acc: 0.0000e+00 - mean_pred: -0.0412\n",
      "Epoch 14/50\n",
      "50/50 [==============================] - 0s 120us/step - loss: 0.5413 - acc: 0.0000e+00 - mean_pred: -0.0418\n",
      "Epoch 15/50\n",
      "50/50 [==============================] - 0s 140us/step - loss: 0.5412 - acc: 0.0000e+00 - mean_pred: -0.0410\n",
      "Epoch 16/50\n",
      "50/50 [==============================] - 0s 100us/step - loss: 0.5411 - acc: 0.0000e+00 - mean_pred: -0.0423\n",
      "Epoch 17/50\n",
      "50/50 [==============================] - 0s 140us/step - loss: 0.5410 - acc: 0.0000e+00 - mean_pred: -0.0403\n",
      "Epoch 18/50\n",
      "50/50 [==============================] - 0s 100us/step - loss: 0.5409 - acc: 0.0000e+00 - mean_pred: -0.0439\n",
      "Epoch 19/50\n",
      "50/50 [==============================] - 0s 80us/step - loss: 0.5408 - acc: 0.0000e+00 - mean_pred: -0.0374\n",
      "Epoch 20/50\n",
      "50/50 [==============================] - 0s 140us/step - loss: 0.5408 - acc: 0.0000e+00 - mean_pred: -0.0501\n",
      "Epoch 21/50\n",
      "50/50 [==============================] - 0s 160us/step - loss: 0.5408 - acc: 0.0000e+00 - mean_pred: -0.0264\n",
      "Epoch 22/50\n",
      "50/50 [==============================] - 0s 140us/step - loss: 0.5410 - acc: 0.0000e+00 - mean_pred: -0.0633\n",
      "Epoch 23/50\n",
      "50/50 [==============================] - 0s 100us/step - loss: 0.5408 - acc: 0.0000e+00 - mean_pred: -0.0221\n",
      "Epoch 24/50\n",
      "50/50 [==============================] - 0s 140us/step - loss: 0.5406 - acc: 0.0000e+00 - mean_pred: -0.0566\n",
      "Epoch 25/50\n",
      "50/50 [==============================] - 0s 100us/step - loss: 0.5404 - acc: 0.0000e+00 - mean_pred: -0.0313\n",
      "Epoch 26/50\n",
      "50/50 [==============================] - 0s 140us/step - loss: 0.5402 - acc: 0.0000e+00 - mean_pred: -0.0503\n",
      "Epoch 27/50\n",
      "50/50 [==============================] - 0s 100us/step - loss: 0.5401 - acc: 0.0000e+00 - mean_pred: -0.0348\n",
      "Epoch 28/50\n",
      "50/50 [==============================] - 0s 100us/step - loss: 0.5400 - acc: 0.0000e+00 - mean_pred: -0.0491\n",
      "Epoch 29/50\n",
      "50/50 [==============================] - 0s 219us/step - loss: 0.5400 - acc: 0.0000e+00 - mean_pred: -0.0346\n",
      "Epoch 30/50\n",
      "50/50 [==============================] - 0s 100us/step - loss: 0.5399 - acc: 0.0000e+00 - mean_pred: -0.0509\n",
      "Epoch 31/50\n",
      "50/50 [==============================] - 0s 179us/step - loss: 0.5400 - acc: 0.0000e+00 - mean_pred: -0.0313\n",
      "Epoch 32/50\n",
      "50/50 [==============================] - 0s 100us/step - loss: 0.5402 - acc: 0.0000e+00 - mean_pred: -0.0559\n",
      "Epoch 33/50\n",
      "50/50 [==============================] - 0s 180us/step - loss: 0.5407 - acc: 0.0000e+00 - mean_pred: -0.0252\n",
      "Epoch 34/50\n",
      "50/50 [==============================] - 0s 80us/step - loss: 0.5411 - acc: 0.0000e+00 - mean_pred: -0.0611\n",
      "Epoch 35/50\n",
      "50/50 [==============================] - 0s 100us/step - loss: 0.5410 - acc: 0.0000e+00 - mean_pred: -0.0235\n",
      "Epoch 36/50\n",
      "50/50 [==============================] - 0s 100us/step - loss: 0.5405 - acc: 0.0000e+00 - mean_pred: -0.0584\n",
      "Epoch 37/50\n",
      "50/50 [==============================] - 0s 100us/step - loss: 0.5399 - acc: 0.0000e+00 - mean_pred: -0.0287\n",
      "Epoch 38/50\n",
      "50/50 [==============================] - 0s 160us/step - loss: 0.5394 - acc: 0.0000e+00 - mean_pred: -0.0533\n",
      "Epoch 39/50\n",
      "50/50 [==============================] - 0s 100us/step - loss: 0.5391 - acc: 0.0000e+00 - mean_pred: -0.0327\n",
      "Epoch 40/50\n",
      "50/50 [==============================] - 0s 100us/step - loss: 0.5389 - acc: 0.0000e+00 - mean_pred: -0.0509\n",
      "Epoch 41/50\n",
      "50/50 [==============================] - 0s 100us/step - loss: 0.5387 - acc: 0.0000e+00 - mean_pred: -0.0341\n",
      "Epoch 42/50\n",
      "50/50 [==============================] - 0s 100us/step - loss: 0.5386 - acc: 0.0000e+00 - mean_pred: -0.0508\n",
      "Epoch 43/50\n",
      "50/50 [==============================] - 0s 100us/step - loss: 0.5385 - acc: 0.0000e+00 - mean_pred: -0.0332\n",
      "Epoch 44/50\n",
      "50/50 [==============================] - 0s 140us/step - loss: 0.5385 - acc: 0.0000e+00 - mean_pred: -0.0528\n",
      "Epoch 45/50\n",
      "50/50 [==============================] - 0s 80us/step - loss: 0.5385 - acc: 0.0000e+00 - mean_pred: -0.0303\n",
      "Epoch 46/50\n",
      "50/50 [==============================] - 0s 140us/step - loss: 0.5386 - acc: 0.0000e+00 - mean_pred: -0.0563\n",
      "Epoch 47/50\n",
      "50/50 [==============================] - 0s 120us/step - loss: 0.5386 - acc: 0.0000e+00 - mean_pred: -0.0270\n",
      "Epoch 48/50\n",
      "50/50 [==============================] - 0s 140us/step - loss: 0.5386 - acc: 0.0000e+00 - mean_pred: -0.0585\n",
      "Epoch 49/50\n",
      "50/50 [==============================] - 0s 140us/step - loss: 0.5383 - acc: 0.0000e+00 - mean_pred: -0.0268\n",
      "Epoch 50/50\n",
      "50/50 [==============================] - 0s 160us/step - loss: 0.5379 - acc: 0.0000e+00 - mean_pred: -0.0569\n"
     ]
    },
    {
     "data": {
      "text/plain": [
       "<tensorflow.python.keras.callbacks.History at 0x2198f2885c0>"
      ]
     },
     "execution_count": 121,
     "metadata": {},
     "output_type": "execute_result"
    }
   ],
   "source": [
    "model.fit(X, t, epochs = 50, batch_size = 50)"
   ]
  },
  {
   "cell_type": "code",
   "execution_count": null,
   "metadata": {},
   "outputs": [],
   "source": []
  }
 ],
 "metadata": {
  "kernelspec": {
   "display_name": "Python 3",
   "language": "python",
   "name": "python3"
  },
  "language_info": {
   "codemirror_mode": {
    "name": "ipython",
    "version": 3
   },
   "file_extension": ".py",
   "mimetype": "text/x-python",
   "name": "python",
   "nbconvert_exporter": "python",
   "pygments_lexer": "ipython3",
   "version": "3.6.8"
  }
 },
 "nbformat": 4,
 "nbformat_minor": 2
}
