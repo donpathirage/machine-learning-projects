{
 "cells": [
  {
   "cell_type": "code",
   "execution_count": 24,
   "metadata": {},
   "outputs": [],
   "source": [
    "import numpy as np\n",
    "import pandas as pd\n",
    "import matplotlib.pyplot as plt\n",
    "%matplotlib inline"
   ]
  },
  {
   "cell_type": "code",
   "execution_count": 25,
   "metadata": {},
   "outputs": [],
   "source": [
    "D_train = 100\n",
    "D_test = 100\n",
    "\n",
    "N_train = 25\n",
    "N_test = 1000\n",
    "\n",
    "#############Training Set#############\n",
    "x_train = np.sort(np.random.uniform(0,1,(D_train,N_train,1)),axis=1)\n",
    "\n",
    "e_train = np.random.normal(0,0.3,(D_train,N_train,1))\n",
    "\n",
    "t_train = np.sin(2*np.pi*x_train) + e_train\n",
    "\n",
    "#############Test Set#############\n",
    "x_test = np.sort(np.random.uniform(0,1,(D_test,N_test,1)),axis=1)\n",
    "\n",
    "e_test = np.random.normal(0,0.3,(D_test,N_test,1))\n",
    "\n",
    "t_test = np.sin(2*np.pi*x_test) + e_test"
   ]
  },
  {
   "cell_type": "code",
   "execution_count": 26,
   "metadata": {},
   "outputs": [],
   "source": [
    "#############Regularization Parameters#############\n",
    "\n",
    "ln_lambdas = np.linspace(-2.2,2.5,50)\n",
    "\n",
    "lambdas = np.exp(ln_lambdas)"
   ]
  },
  {
   "cell_type": "code",
   "execution_count": 27,
   "metadata": {},
   "outputs": [],
   "source": [
    "def designMatrix(x,M,s):    ##Non Linear Mapping to RBFs\n",
    "    \n",
    "    s = s**2\n",
    "    N = len(x)\n",
    "    \n",
    "    X = np.zeros((N,M))\n",
    "    poi = np.linspace(0,1,M)\n",
    "    \n",
    "    for i in range(N):\n",
    "        X[i,:] = np.exp(-1*np.power(x[i] - poi.T,2)/(2*s)) \n",
    "    \n",
    "    phi = np.hstack((np.ones((N,1)),X))\n",
    "    \n",
    "    return phi"
   ]
  },
  {
   "cell_type": "code",
   "execution_count": 28,
   "metadata": {},
   "outputs": [],
   "source": [
    "def cost(f,t):\n",
    "    return np.sum(np.power(f - t,2))"
   ]
  },
  {
   "cell_type": "code",
   "execution_count": 29,
   "metadata": {},
   "outputs": [],
   "source": [
    "def closedForm(x,t,M,lamb):\n",
    "    return np.linalg.inv(x.T@x+lamb*np.eye(M+1)) @ x.T @ t"
   ]
  },
  {
   "cell_type": "code",
   "execution_count": 30,
   "metadata": {},
   "outputs": [],
   "source": [
    "def gaussianFit(x_train,t,N,M,D,lambdas,plot=False):\n",
    "    x_mesh = np.linspace(0,1,N).reshape(N,1)\n",
    "    phi_mesh = designMatrix(x_mesh,M,0.1)\n",
    "    f_x = []\n",
    "    y_mesh = np.zeros((len(lambdas), D, N,1))\n",
    "    w = np.zeros((len(lambdas), D,M+1,1))\n",
    "    h_x = np.sin(2*np.pi*x_mesh)\n",
    "\n",
    "    for j in range(len(lambdas)):\n",
    "        for i in range(D):\n",
    "            phi_train = designMatrix(x_train[i],M,0.1)\n",
    "            w[j,i,:] = closedForm(phi_train,t[i],M,lambdas[j])\n",
    "            \n",
    "            if plot:\n",
    "                y_mesh[j,i,:] = phi_mesh@w[j,i]\n",
    "                plt.plot(x_mesh,y_mesh[j,i,:],'r')\n",
    "                plt.ylim([-2,2])\n",
    "                plt.title('ln(lambda): ' + str(np.log(lambdas[j])))\n",
    "        if plot:\n",
    "            plt.figure()\n",
    "        f_x.append(np.mean(y_mesh[j],axis=0))\n",
    "\n",
    "    if plot:\n",
    "        for j in range(len(lambdas)):\n",
    "            plt.figure()\n",
    "            plt.plot(x_mesh, h_x,'g')\n",
    "            plt.plot(x_mesh,f_x[j],'r')\n",
    "            plt.ylim([-1.5,1.5])\n",
    "            plt.title('Average ln(lambda): ' + str(np.log(lambdas[j])))\n",
    "    return w"
   ]
  },
  {
   "cell_type": "code",
   "execution_count": 31,
   "metadata": {},
   "outputs": [],
   "source": [
    "def prediction(x, lambdas, D, N, w):\n",
    "    y_estimates_test = np.zeros((len(lambdas), D, N,1))\n",
    "    phi = []\n",
    "    \n",
    "    for i in range(D):\n",
    "        phi = designMatrix(x[i],M,0.1)\n",
    "        for j in range(len(lambdas)):\n",
    "            y_estimates_test[j,i,:] = phi@w[j,i]\n",
    "\n",
    "    return y_estimates_test"
   ]
  },
  {
   "cell_type": "code",
   "execution_count": 32,
   "metadata": {},
   "outputs": [],
   "source": [
    "def biasVariance(w, lambdas, y_hat, D):\n",
    "    N = 25\n",
    "    x_mesh = np.linspace(0,1,N).reshape(N,1)\n",
    "    phi_mesh = designMatrix(x_mesh,M,0.1)\n",
    "    h_x = np.sin(2*np.pi*x_mesh)\n",
    "    f_x = []\n",
    "    y = np.zeros((len(lambdas), D, N,1))\n",
    "    ln_lambdas = np.log(lambdas)\n",
    "    E = np.zeros((len(lambdas),1))\n",
    "    \n",
    "    for j in range(len(lambdas)):\n",
    "        for i in range(D):\n",
    "            y[j,i,:] = phi_mesh@w[j,i]\n",
    "        f_x.append(np.mean(y[j],axis=0))\n",
    "        \n",
    "    bias_sq = np.zeros((len(lambdas),1))\n",
    "    for i in range(len(lambdas)):\n",
    "        bias_sq[i] = np.mean(np.power(f_x[i]-h_x,2))\n",
    "\n",
    "    variance = np.zeros((len(lambdas),1))\n",
    "    for i in range(len(lambdas)):\n",
    "        variance[i] = np.mean(np.mean(np.power(y[i]-f_x[i],2),axis=0))\n",
    "              \n",
    "    N = 1000\n",
    "    x_mesh = np.linspace(0,1,N).reshape(N,1)\n",
    "    true_avg = np.mean(t_test,0)\n",
    "    for i in range(len(lambdas)):\n",
    "        E[i] = np.sqrt(cost(true_avg,np.mean(y_hat[i],0))/N)\n",
    "\n",
    "    plt.plot(ln_lambdas,bias_sq,'blue')\n",
    "    plt.plot(ln_lambdas,variance,'r')\n",
    "    plt.plot(ln_lambdas,bias_sq+variance,'m')\n",
    "    plt.plot(ln_lambdas,(E), 'k')\n",
    "\n",
    "    plt.legend(['(bias)^2','variance','bias^2 + variance','test error'])\n",
    "    plt.xlabel('ln λ')\n",
    "    plt.ylim([0, 0.15])"
   ]
  },
  {
   "cell_type": "code",
   "execution_count": 33,
   "metadata": {},
   "outputs": [
    {
     "data": {
      "image/png": "[encoded data removed]",
      "text/plain": [
       "<Figure size 432x288 with 1 Axes>"
      ]
     },
     "metadata": {
      "needs_background": "light"
     },
     "output_type": "display_data"
    }
   ],
   "source": [
    "M = 25\n",
    "w = gaussianFit(x_train,t_train,N_train,M,D_train,lambdas,False)\n",
    "\n",
    "y_hat = prediction(x_test, lambdas, D_train, N_test, w)\n",
    "\n",
    "biasVariance(w, lambdas,y_hat, D_train)\n",
    "plt.show()"
   ]
  },
  {
   "cell_type": "code",
   "execution_count": null,
   "metadata": {},
   "outputs": [],
   "source": []
  }
 ],
 "metadata": {
  "kernelspec": {
   "display_name": "Python 3",
   "language": "python",
   "name": "python3"
  },
  "language_info": {
   "codemirror_mode": {
    "name": "ipython",
    "version": 3
   },
   "file_extension": ".py",
   "mimetype": "text/x-python",
   "name": "python",
   "nbconvert_exporter": "python",
   "pygments_lexer": "ipython3",
   "version": "3.6.8"
  }
 },
 "nbformat": 4,
 "nbformat_minor": 2
}
