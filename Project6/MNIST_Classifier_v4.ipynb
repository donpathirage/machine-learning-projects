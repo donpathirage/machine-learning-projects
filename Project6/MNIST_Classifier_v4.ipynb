{
 "cells": [
  {
   "cell_type": "code",
   "execution_count": null,
   "metadata": {},
   "outputs": [],
   "source": [
    "import time\n",
    "import matplotlib.pyplot as plt\n",
    "import numpy as np\n",
    "import keras\n",
    "from keras import backend as k\n",
    "from keras.layers import InputLayer\n",
    "from keras.models import load_model\n",
    "from keras.models import Sequential\n",
    "from keras.layers import Activation\n",
    "from keras.layers.core import Flatten, Dense, Dropout\n",
    "from keras.layers.normalization import BatchNormalization\n",
    "from keras.layers.convolutional import Conv2D, MaxPooling2D, ZeroPadding2D\n",
    "from keras.constraints import maxnorm\n",
    "from keras.optimizers import SGD\n",
    "from keras.utils import np_utils\n",
    "from keras import backend as K\n",
    "from keras.datasets import mnist\n",
    "from keras import backend as K\n",
    "from keras import regularizers\n",
    "from keras import optimizers\n",
    "from keras.layers.core import Lambda\n",
    "from keras.preprocessing.image import ImageDataGenerator\n",
    "from keras.preprocessing import image\n",
    "from keras.applications.vgg16 import preprocess_input\n",
    "import cv2\n",
    "import pickle\n",
    "import pandas as pd\n",
    "from keras import applications\n",
    "from sklearn.model_selection import train_test_split\n",
    "\n",
    "############## Hyperparameters #############\n",
    "\n",
    "learning_rate = 1e-5\n",
    "weight_decay = 0.0005\n",
    "lr_decay = 1e-6\n",
    "lr_drop = 20\n",
    "maxepochs = 25\n",
    "\n",
    "################ Optimizers ###############\n",
    "\n",
    "# optim = optimizers.SGD(lr=learning_rate, decay=lr_decay, momentum=0.9, nesterov=True)\n",
    "\n",
    "optim = optimizers.Adam(lr=0.001, beta_1=0.9, beta_2=0.999, epsilon=None, decay=lr_decay, amsgrad=False)\n",
    "\n",
    "#optim = optimizers.RMSprop(lr=learning_rate, rho=0.9, epsilon=None, decay=lr_decay)\n",
    "\n",
    "# optim = optimizers.Adadelta(lr=1.0, rho=0.95, epsilon=None, decay=0.0)"
   ]
  },
  {
   "cell_type": "code",
   "execution_count": 3,
   "metadata": {},
   "outputs": [
    {
     "name": "stdout",
     "output_type": "stream",
     "text": [
      "X_train shape: (60000, 28, 28, 1)\n"
     ]
    }
   ],
   "source": [
    "################ MNIST ######################\n",
    "batch_size = 64\n",
    "img_rows, img_cols = 28, 28\n",
    "\n",
    "(x_train, y_train), (x_test, y_test) = mnist.load_data() \n",
    "\n",
    "if k.image_data_format() == 'channels_first':\n",
    "    x_train = x_train.reshape(x_train.shape[0], 1, img_rows, img_cols)\n",
    "    x_test = x_test.reshape(x_test.shape[0], 1, img_rows, img_cols)\n",
    "    input_shape = (1, img_rows, img_cols)\n",
    "else:\n",
    "    x_train = x_train.reshape(x_train.shape[0], img_rows, img_cols, 1)\n",
    "    x_test = x_test.reshape(x_test.shape[0], img_rows, img_cols, 1)\n",
    "    input_shape = (img_rows, img_cols, 1)\n",
    "#more reshaping\n",
    "x_train = x_train.astype('float32')\n",
    "x_test = x_test.astype('float32')\n",
    "x_train /= 255\n",
    "x_test /= 255\n",
    "print('X_train shape:', x_train.shape) #X_train shape: (60000, 28, 28, 1)\n",
    "\n",
    "num_category = 10\n",
    "y_train = keras.utils.to_categorical(y_train, num_category)\n",
    "y_test = keras.utils.to_categorical(y_test, num_category)"
   ]
  },
  {
   "cell_type": "code",
   "execution_count": 6,
   "metadata": {},
   "outputs": [],
   "source": [
    "class CustomAugmentation(object):\n",
    "    \"\"\" Defines a custom augmentation class\"\"\"\n",
    "    \n",
    "    kernel = np.ones((3,3),np.uint8)\n",
    "    \n",
    "    def __init__(self, erosion = False, dilation = False):\n",
    "        self.erosion = erosion\n",
    "        self.dilation = dilation\n",
    "    \n",
    "    def __call__(self, img):\n",
    "        \n",
    "        randomNumber = np.random.random()\n",
    "        \n",
    "        # Erosion and dilation are never applied together\n",
    "        \n",
    "        if randomNumber < 0.9:\n",
    "            pass\n",
    "        elif randomNumber < 0.95:\n",
    "            if self.erosion == True:\n",
    "                # Apply erosion 5% of the time if True\n",
    "                img = cv2.erode(img,CustomAugmentation.kernel,iterations = 1)\n",
    "                img = img.reshape(28,28,1)\n",
    "        else:\n",
    "            if self.dilation == True:\n",
    "                # Apply dilation 5% of the time if True\n",
    "                img = cv2.dilate(img,CustomAugmentation.kernel,iterations = 1)\n",
    "                img = img.reshape(28,28,1)\n",
    "                \n",
    "        return img\n",
    "\n",
    "preprocessor = CustomAugmentation(erosion = True, dilation = True)\n",
    "\n",
    "datagen = ImageDataGenerator(\n",
    "    preprocessing_function = preprocessor,\n",
    "    featurewise_center=False,  # set input mean to 0 over the dataset\n",
    "    samplewise_center=False,  # set each sample mean to 0\n",
    "    featurewise_std_normalization=False,  # divide inputs by std of the dataset\n",
    "    samplewise_std_normalization=False,  # divide each input by its std\n",
    "    zca_whitening=False,  # apply ZCA whitening\n",
    "    zoom_range=0.1,\n",
    "    rotation_range=10,  # randomly rotate images in the range (degrees, 0 to 180)\n",
    "    width_shift_range=0.1,  # randomly shift images horizontally (fraction of total width)\n",
    "    height_shift_range=0.0,  # randomly shift images vertically (fraction of total height)\n",
    "    horizontal_flip=False,  # randomly flip images\n",
    "    vertical_flip=False)  # randomly flip images\n",
    "# (std, mean, and principal components if ZCA whitening is applied).\n",
    "\n",
    "def lr_scheduler(epoch):\n",
    "            return learning_rate * (0.5 ** (epoch // lr_drop))\n",
    "\n",
    "filepath = 'MNIST_Classifier.{epoch:02d}-{val_acc:.2f}.hdf5'\n",
    "reduce_lr = keras.callbacks.LearningRateScheduler(lr_scheduler)\n",
    "earlystop = keras.callbacks.EarlyStopping(monitor='val_acc', min_delta=0, patience=2, verbose=0, mode='auto')\n",
    "checkpoint = keras.callbacks.ModelCheckpoint(filepath, monitor='val_loss', verbose=0, save_best_only=True, save_weights_only=False, mode='auto', period=1)\n",
    "cb_list = [reduce_lr, earlystop, checkpoint]"
   ]
  },
  {
   "cell_type": "code",
   "execution_count": 7,
   "metadata": {},
   "outputs": [
    {
     "name": "stdout",
     "output_type": "stream",
     "text": [
      "_________________________________________________________________\n",
      "Layer (type)                 Output Shape              Param #   \n",
      "=================================================================\n",
      "conv2d_1 (Conv2D)            (None, 26, 26, 32)        320       \n",
      "_________________________________________________________________\n",
      "conv2d_2 (Conv2D)            (None, 24, 24, 64)        18496     \n",
      "_________________________________________________________________\n",
      "max_pooling2d_1 (MaxPooling2 (None, 12, 12, 64)        0         \n",
      "_________________________________________________________________\n",
      "flatten_1 (Flatten)          (None, 9216)              0         \n",
      "_________________________________________________________________\n",
      "dense_1 (Dense)              (None, 128)               1179776   \n",
      "_________________________________________________________________\n",
      "dense_2 (Dense)              (None, 10)                1290      \n",
      "=================================================================\n",
      "Total params: 1,199,882\n",
      "Trainable params: 1,199,882\n",
      "Non-trainable params: 0\n",
      "_________________________________________________________________\n"
     ]
    }
   ],
   "source": [
    "\n",
    "\n",
    "model = Sequential()\n",
    "model.add(Conv2D(32, kernel_size=(3, 3),\n",
    "                 activation='relu',\n",
    "                 input_shape=input_shape))\n",
    "\n",
    "model.add(Conv2D(64, (3, 3), activation='relu'))\n",
    "model.add(MaxPooling2D(pool_size=(2, 2)))\n",
    "\n",
    "model.add(Flatten())\n",
    "model.add(Dense(128, activation='relu'))\n",
    "\n",
    "model.add(Dense(num_category, activation='softmax'))\n",
    "\n",
    "    \n",
    "############## Compile Model #################  \n",
    "model.compile(loss='categorical_crossentropy', optimizer=optim, metrics=['accuracy'])\n",
    "model.summary()"
   ]
  },
  {
   "cell_type": "code",
   "execution_count": 8,
   "metadata": {},
   "outputs": [
    {
     "name": "stdout",
     "output_type": "stream",
     "text": [
      "WARNING:tensorflow:From C:\\Users\\Buster\\Anaconda3\\lib\\site-packages\\tensorflow\\python\\ops\\math_ops.py:3066: to_int32 (from tensorflow.python.ops.math_ops) is deprecated and will be removed in a future version.\n",
      "Instructions for updating:\n",
      "Use tf.cast instead.\n",
      "Epoch 1/25\n",
      "937/937 [==============================] - 25s 27ms/step - loss: 1.6592 - acc: 0.5117 - val_loss: 0.6146 - val_acc: 0.8425\n",
      "Epoch 2/25\n",
      "937/937 [==============================] - 16s 17ms/step - loss: 0.9773 - acc: 0.6985 - val_loss: 0.3828 - val_acc: 0.9025\n",
      "Epoch 3/25\n",
      "937/937 [==============================] - 17s 18ms/step - loss: 0.7594 - acc: 0.7758 - val_loss: 0.2813 - val_acc: 0.9323\n",
      "Epoch 4/25\n",
      "937/937 [==============================] - 18s 20ms/step - loss: 0.5980 - acc: 0.8289 - val_loss: 0.2207 - val_acc: 0.9479\n",
      "Epoch 5/25\n",
      "937/937 [==============================] - 18s 19ms/step - loss: 0.4916 - acc: 0.8624 - val_loss: 0.1788 - val_acc: 0.9580\n",
      "Epoch 6/25\n",
      "937/937 [==============================] - 19s 20ms/step - loss: 0.4237 - acc: 0.8813 - val_loss: 0.1509 - val_acc: 0.9642\n",
      "Epoch 7/25\n",
      "937/937 [==============================] - 21s 22ms/step - loss: 0.3694 - acc: 0.8969 - val_loss: 0.1341 - val_acc: 0.9669\n",
      "Epoch 8/25\n",
      "937/937 [==============================] - 19s 20ms/step - loss: 0.3332 - acc: 0.9069 - val_loss: 0.1187 - val_acc: 0.9698\n",
      "Epoch 9/25\n",
      "937/937 [==============================] - 19s 20ms/step - loss: 0.3029 - acc: 0.9157 - val_loss: 0.1083 - val_acc: 0.9714\n",
      "Epoch 10/25\n",
      "937/937 [==============================] - 20s 22ms/step - loss: 0.2847 - acc: 0.9201 - val_loss: 0.0991 - val_acc: 0.9735\n",
      "Epoch 11/25\n",
      "937/937 [==============================] - 21s 22ms/step - loss: 0.2672 - acc: 0.9259 - val_loss: 0.0941 - val_acc: 0.9736\n",
      "Epoch 12/25\n",
      "937/937 [==============================] - 21s 22ms/step - loss: 0.2513 - acc: 0.9292 - val_loss: 0.0893 - val_acc: 0.9745\n",
      "Epoch 13/25\n",
      "937/937 [==============================] - 21s 22ms/step - loss: 0.2421 - acc: 0.9335 - val_loss: 0.0856 - val_acc: 0.9753\n",
      "Epoch 14/25\n",
      "937/937 [==============================] - 23s 25ms/step - loss: 0.2313 - acc: 0.9365 - val_loss: 0.0800 - val_acc: 0.9770\n",
      "Epoch 15/25\n",
      "937/937 [==============================] - 21s 23ms/step - loss: 0.2218 - acc: 0.9385 - val_loss: 0.0795 - val_acc: 0.9763\n",
      "Epoch 16/25\n",
      "937/937 [==============================] - 24s 26ms/step - loss: 0.2115 - acc: 0.9414 - val_loss: 0.0750 - val_acc: 0.9775\n",
      "Epoch 17/25\n",
      "937/937 [==============================] - 27s 29ms/step - loss: 0.2051 - acc: 0.9429 - val_loss: 0.0751 - val_acc: 0.9775\n",
      "Epoch 18/25\n",
      "937/937 [==============================] - 23s 25ms/step - loss: 0.1957 - acc: 0.9458 - val_loss: 0.0687 - val_acc: 0.9787\n",
      "Epoch 19/25\n",
      "937/937 [==============================] - 21s 23ms/step - loss: 0.1937 - acc: 0.9466 - val_loss: 0.0666 - val_acc: 0.9794\n",
      "Epoch 20/25\n",
      "937/937 [==============================] - 21s 22ms/step - loss: 0.1896 - acc: 0.9477 - val_loss: 0.0657 - val_acc: 0.9803\n",
      "Epoch 21/25\n",
      "937/937 [==============================] - 21s 22ms/step - loss: 0.1848 - acc: 0.9478 - val_loss: 0.0636 - val_acc: 0.9812\n",
      "Epoch 22/25\n",
      "937/937 [==============================] - 21s 23ms/step - loss: 0.1816 - acc: 0.9493 - val_loss: 0.0624 - val_acc: 0.9817\n",
      "Epoch 23/25\n",
      "937/937 [==============================] - 21s 22ms/step - loss: 0.1801 - acc: 0.9495 - val_loss: 0.0633 - val_acc: 0.9813\n",
      "Epoch 24/25\n",
      "937/937 [==============================] - 21s 22ms/step - loss: 0.1756 - acc: 0.9510 - val_loss: 0.0617 - val_acc: 0.9817\n"
     ]
    }
   ],
   "source": [
    "\n",
    "cnn = model.fit_generator(datagen.flow(x_train, y_train,\n",
    "                                               batch_size=batch_size),\n",
    "                                  \n",
    "                                steps_per_epoch=x_train.shape[0] // batch_size,\n",
    "                                epochs=maxepochs,\n",
    "                                validation_data=(x_test, y_test),callbacks=cb_list, verbose=1)\n"
   ]
  },
  {
   "cell_type": "code",
   "execution_count": 9,
   "metadata": {},
   "outputs": [
    {
     "data": {
      "image/png": "[encoded data removed]",
      "text/plain": [
       "<Figure size 432x288 with 1 Axes>"
      ]
     },
     "metadata": {
      "needs_background": "light"
     },
     "output_type": "display_data"
    },
    {
     "data": {
      "image/png": "[encoded data removed]",
      "text/plain": [
       "<Figure size 576x432 with 1 Axes>"
      ]
     },
     "metadata": {
      "needs_background": "light"
     },
     "output_type": "display_data"
    }
   ],
   "source": [
    "plt.figure(2)\n",
    "plt.plot(cnn.history['acc'],'r')\n",
    "plt.plot(cnn.history['val_acc'],'g')\n",
    "plt.xticks(np.arange(0, maxepochs+1, 2.0))\n",
    "plt.rcParams['figure.figsize'] = (8, 6)\n",
    "plt.xlabel(\"Num of Epochs\")\n",
    "plt.ylabel(\"Accuracy\")\n",
    "plt.title(\"Training Accuracy vs Validation Accuracy\")\n",
    "plt.legend(['train','validation'])\n",
    " \n",
    "plt.figure(3)\n",
    "plt.plot(cnn.history['loss'],'r')\n",
    "plt.plot(cnn.history['val_loss'],'g')\n",
    "plt.xticks(np.arange(0, maxepochs+1, 2.0))\n",
    "plt.rcParams['figure.figsize'] = (8, 6)\n",
    "plt.xlabel(\"Num of Epochs\")\n",
    "plt.ylabel(\"Loss\")\n",
    "plt.title(\"Training Loss vs Validation Loss\")\n",
    "plt.legend(['train','validation'])\n",
    "plt.show()"
   ]
  },
  {
   "cell_type": "code",
   "execution_count": 10,
   "metadata": {},
   "outputs": [
    {
     "name": "stdout",
     "output_type": "stream",
     "text": [
      "Accuracy: 98.17%\n"
     ]
    }
   ],
   "source": [
    "scores = model.evaluate(x_test, y_test, verbose=0)\n",
    "print(\"Accuracy: %.2f%%\" % (scores[1]*100))"
   ]
  },
  {
   "cell_type": "code",
   "execution_count": null,
   "metadata": {},
   "outputs": [],
   "source": []
  }
 ],
 "metadata": {
  "kernelspec": {
   "display_name": "Python 3",
   "language": "python",
   "name": "python3"
  },
  "language_info": {
   "codemirror_mode": {
    "name": "ipython",
    "version": 3
   },
   "file_extension": ".py",
   "mimetype": "text/x-python",
   "name": "python",
   "nbconvert_exporter": "python",
   "pygments_lexer": "ipython3",
   "version": "3.6.8"
  }
 },
 "nbformat": 4,
 "nbformat_minor": 2
}
