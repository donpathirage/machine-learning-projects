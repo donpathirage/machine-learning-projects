{
 "cells": [
  {
   "cell_type": "code",
   "execution_count": null,
   "metadata": {},
   "outputs": [],
   "source": [
    "import numpy as np\n",
    "import pandas as pd\n",
    "import matplotlib.pyplot as plt\n",
    "import keras\n",
    "import sklearn\n",
    "import sklearn.preprocessing\n",
    "from sklearn.model_selection import train_test_split\n",
    "import sys\n",
    "import tensorflow as tf\n",
    "import cv2\n",
    "\n",
    "mnist_labels = np.load(\"segmented.npy\")\n",
    "_, HEIGHT, WIDTH, N_CLASSES = mnist_labels.shape\n",
    "mnist_inputs = np.load(\"combined.npy\").reshape((-1, HEIGHT, WIDTH, 1))/255\n",
    "\n"
   ]
  },
  {
   "cell_type": "code",
   "execution_count": null,
   "metadata": {},
   "outputs": [],
   "source": [
    "# mnist_inputs = mnist_inputs.reshape(5000,64,84)"
   ]
  },
  {
   "cell_type": "code",
   "execution_count": null,
   "metadata": {},
   "outputs": [],
   "source": [
    "kernel = np.ones((2,2),np.uint8)\n",
    "for x in mnist_inputs:\n",
    "    plt.subplot(121),plt.imshow(x.reshape(64,84),cmap = 'gray')\n",
    "    plt.title('Original Image'), plt.xticks([]), plt.yticks([])\n",
    "    x = cv2.dilate(np.round(x.reshape(64,84)).astype('uint8'),kernel,iterations = 1)\n",
    "    mnist_inputs = np.append(mnist_inputs,x.reshape(1,64,84,1),axis=0)\n",
    "    plt.subplot(122),plt.imshow(x,cmap = 'gray')\n",
    "    plt.title('Edge Image'), plt.xticks([]), plt.yticks([])\n"
   ]
  },
  {
   "cell_type": "code",
   "execution_count": null,
   "metadata": {},
   "outputs": [],
   "source": [
    "inputs=keras.layers.Input((HEIGHT, WIDTH,1))\n",
    "\n",
    "x=keras.layers.ZeroPadding2D(((0, 0), (0, 96-WIDTH)))(inputs)\n",
    "\n",
    "layers = []\n",
    "\n",
    "for n, k, s in [(32, 5, 1),(64, 5, 1),(128, 5, 1),(128, 3, 1),(128, 3, 1)]:\n",
    "    x=keras.layers.Conv2D(n, kernel_size=k, strides=s, padding='same')(x)\n",
    "    x=keras.layers.LeakyReLU()(x)\n",
    "    x=keras.layers.Conv2D(n, kernel_size=k, strides=s, padding='same')(x)\n",
    "    x=keras.layers.MaxPooling2D(pool_size=3, strides=2, padding='same')(x)\n",
    "    x=keras.layers.LeakyReLU()(x)\n",
    "    x=keras.layers.BatchNormalization()(x)\n",
    "    layers.append(x)\n",
    "layers.pop()\n",
    "\n",
    "for n, k, s in [(128, 3, 1),(128, 3, 1)]:\n",
    "    x=keras.layers.Conv2D(n, kernel_size=k, strides=s, padding='same')(x)\n",
    "    x=keras.layers.LeakyReLU()(x)\n",
    "    x=keras.layers.BatchNormalization()(x)\n",
    "    \n",
    "for n, k, s in reversed([(N_CLASSES, 5, 2),(64, 5, 2),(64, 5, 2),(128, 5, 2),(128, 5, 2)]):\n",
    "    x=keras.layers.Conv2DTranspose(n, kernel_size=k, strides=s, padding='same')(x)\n",
    "    if len(layers)>0:\n",
    "        l = layers.pop()\n",
    "        x=keras.layers.concatenate([l, x])\n",
    "    x=keras.layers.LeakyReLU()(x)\n",
    "    x=keras.layers.BatchNormalization()(x)\n",
    "    \n",
    "x=keras.layers.Conv2DTranspose(N_CLASSES, kernel_size=5, strides=1, padding='same')(x)\n",
    "x=keras.layers.Cropping2D(((0, 0), (0, 96-WIDTH)))(x)\n",
    "outputs = keras.layers.Activation('softmax')(x)\n",
    "\n",
    "model = keras.models.Model(inputs=inputs, outputs=outputs)\n",
    "model.summary()"
   ]
  },
  {
   "cell_type": "code",
   "execution_count": null,
   "metadata": {},
   "outputs": [],
   "source": [
    "datagen = keras.preprocessing.image.ImageDataGenerator(rotation_range=10.0,\n",
    "                                                       width_shift_range=2,\n",
    "                                                       height_shift_range=2,\n",
    "                                                       shear_range=0.0,\n",
    "                                                       zoom_range=0.1,\n",
    "                                                       data_format='channels_last',\n",
    "                                                       validation_split=0.1\n",
    "                                                      )"
   ]
  },
  {
   "cell_type": "code",
   "execution_count": null,
   "metadata": {},
   "outputs": [],
   "source": [
    "# model.compile(loss='categorical_crossentropy',\n",
    "#               optimizer=keras.optimizers.Adam(0.001),\n",
    "#               metrics=['accuracy'])\n",
    "\n",
    "# epochs = 30\n",
    "# batch_size = 25\n",
    "# model_name = input(\"Specify a name for the model to be saved: \")\n",
    "# model.fit_generator(zip(datagen.flow(mnist_inputs, batch_size=batch_size, subset='training', seed=1), datagen.flow(mnist_labels, batch_size=batch_size, subset='training', seed=1)),\n",
    "#                     epochs=epochs, \n",
    "#                     steps_per_epoch = len(mnist_inputs)//batch_size,\n",
    "#                     validation_data=zip(datagen.flow(mnist_inputs, batch_size=batch_size, subset='validation', seed=1), datagen.flow(mnist_labels, batch_size=batch_size, subset='validation', seed=1)),\n",
    "#                     validation_steps=50,\n",
    "#                     #callbacks=[keras.callbacks.EarlyStopping(monitor='val_acc', min_delta=0, patience=2, verbose=0, mode='auto')],\n",
    "#                     verbose=2\n",
    "#          )"
   ]
  },
  {
   "cell_type": "code",
   "execution_count": null,
   "metadata": {},
   "outputs": [],
   "source": [
    "model.save(model_name)"
   ]
  },
  {
   "cell_type": "code",
   "execution_count": null,
   "metadata": {},
   "outputs": [],
   "source": [
    "model = tf.keras.models.load_model('mnist_segmentation.model')   #Load Model"
   ]
  },
  {
   "cell_type": "code",
   "execution_count": null,
   "metadata": {},
   "outputs": [],
   "source": [
    "N_TEST = 1\n",
    "SEED = np.random.randint(0, 1000)\n",
    "originals = next(datagen.flow(mnist_inputs, batch_size=N_TEST, subset='validation', seed=SEED))\n",
    "ground_truth = next(datagen.flow(mnist_labels, batch_size=N_TEST, subset='validation', seed=SEED))\n",
    "predicted = model.predict_on_batch(originals)\n",
    "predicted = np.round(predicted).astype(np.int)\n",
    "plt.figure(figsize=(20, 5))\n",
    "np.set_printoptions(threshold=sys.maxsize)\n",
    "for i in range(N_TEST):\n",
    "    plt.subplot(4, N_TEST, i+1)\n",
    "    plt.imshow(originals[i].reshape((HEIGHT, WIDTH)))\n",
    "    plt.subplot(4, N_TEST, i+1+N_TEST)\n",
    "    plt.imshow(np.argmax(predicted[i], axis=2), vmax=10, vmin=0)\n",
    "    plt.subplot(4, N_TEST, i+1+2*N_TEST)\n",
    "    plt.imshow(np.argmax(ground_truth[i], axis=2), vmax=10, vmin=0)\n",
    "    plt.subplot(4, N_TEST, i+1+3*N_TEST)\n",
    "    plt.imshow(np.any(predicted[i]-ground_truth[i], axis=2))\n",
    "    for j in range(10):\n",
    "        if (predicted[:,:,:,j].sum(1).sum() >= 50):\n",
    "            print(\"Detected a: \" + str(j))\n",
    "        "
   ]
  },
  {
   "cell_type": "code",
   "execution_count": null,
   "metadata": {},
   "outputs": [],
   "source": [
    "# plt.imshow(mnist_inputs[1].reshape(64,84))\n",
    "plt.figure()\n",
    "plt.imshow(np.round(mnist_inputs[1].reshape(64,84)).astype('uint8'), cmap='gray')\n",
    "kernel = np.ones((2,2),np.uint8)\n",
    "dilation = cv2.dilate(np.round(mnist_inputs[1].reshape(64,84)).astype('uint8'),kernel,iterations = 1)\n",
    "plt.figure()\n",
    "plt.imshow(dilation, cmap='gray')"
   ]
  },
  {
   "cell_type": "code",
   "execution_count": null,
   "metadata": {},
   "outputs": [],
   "source": [
    "np.argmax(originals[0],axis=2)"
   ]
  },
  {
   "cell_type": "code",
   "execution_count": null,
   "metadata": {},
   "outputs": [],
   "source": [
    "predicted[:,:,:,3]"
   ]
  },
  {
   "cell_type": "code",
   "execution_count": null,
   "metadata": {},
   "outputs": [],
   "source": [
    "predicted[:,:,:,j].sum(1).sum()"
   ]
  },
  {
   "cell_type": "code",
   "execution_count": null,
   "metadata": {},
   "outputs": [],
   "source": [
    "    for j in range(10):\n",
    "        if (predicted[:,:,:,j].sum(1).sum() >= 30):\n",
    "            print(\"Detected a: \" + str(j))"
   ]
  },
  {
   "cell_type": "code",
   "execution_count": null,
   "metadata": {},
   "outputs": [],
   "source": [
    "plt.imshow(mnist_inputs[5000].reshape(64,84),cmap='gray')"
   ]
  },
  {
   "cell_type": "code",
   "execution_count": null,
   "metadata": {},
   "outputs": [],
   "source": [
    ".shape"
   ]
  },
  {
   "cell_type": "code",
   "execution_count": null,
   "metadata": {},
   "outputs": [],
   "source": [
    "mnist_inputs.shape"
   ]
  },
  {
   "cell_type": "code",
   "execution_count": null,
   "metadata": {},
   "outputs": [],
   "source": []
  }
 ],
 "metadata": {
  "kernelspec": {
   "display_name": "Python 3",
   "language": "python",
   "name": "python3"
  },
  "language_info": {
   "codemirror_mode": {
    "name": "ipython",
    "version": 3
   },
   "file_extension": ".py",
   "mimetype": "text/x-python",
   "name": "python",
   "nbconvert_exporter": "python",
   "pygments_lexer": "ipython3",
   "version": "3.6.8"
  }
 },
 "nbformat": 4,
 "nbformat_minor": 2
}
