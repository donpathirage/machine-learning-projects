{
 "cells": [
  {
   "cell_type": "code",
   "execution_count": 10,
   "metadata": {},
   "outputs": [],
   "source": [
    "import time\n",
    "import matplotlib.pyplot as plt\n",
    "import numpy as np\n",
    "import keras\n",
    "from keras import backend as k\n",
    "from keras.layers import InputLayer\n",
    "from keras.models import load_model\n",
    "from keras.models import Sequential\n",
    "from keras.layers import Activation\n",
    "from keras.layers.core import Flatten, Dense, Dropout\n",
    "from keras.layers.normalization import BatchNormalization\n",
    "from keras.layers.convolutional import Conv2D, MaxPooling2D, ZeroPadding2D\n",
    "from keras.constraints import maxnorm\n",
    "from keras.optimizers import SGD\n",
    "from keras.utils import np_utils\n",
    "from keras import backend as K\n",
    "from keras.datasets import mnist\n",
    "from keras import backend as K\n",
    "from keras import regularizers\n",
    "from keras import optimizers\n",
    "from keras.layers.core import Lambda\n",
    "from keras.preprocessing.image import ImageDataGenerator\n",
    "from keras.preprocessing import image\n",
    "from keras.applications.vgg16 import preprocess_input\n",
    "import cv2\n",
    "import pickle\n",
    "import pandas as pd\n",
    "from keras import applications\n",
    "from sklearn.model_selection import train_test_split\n",
    "\n",
    "############## Hyperparameters #############\n",
    "\n",
    "learning_rate = 1e-5\n",
    "weight_decay = 0.0005\n",
    "lr_decay = 1e-6\n",
    "lr_drop = 20\n",
    "maxepochs = 25\n",
    "\n",
    "################ Optimizers ###############\n",
    "\n",
    "# optim = optimizers.SGD(lr=learning_rate, decay=lr_decay, momentum=0.9, nesterov=True)\n",
    "\n",
    "optim = optimizers.Adam(lr=0.001, beta_1=0.9, beta_2=0.999, epsilon=None, decay=lr_decay, amsgrad=False)\n",
    "\n",
    "#optim = optimizers.RMSprop(lr=learning_rate, rho=0.9, epsilon=None, decay=lr_decay)\n",
    "\n",
    "# optim = optimizers.Adadelta(lr=1.0, rho=0.95, epsilon=None, decay=0.0)"
   ]
  },
  {
   "cell_type": "code",
   "execution_count": 11,
   "metadata": {},
   "outputs": [
    {
     "name": "stdout",
     "output_type": "stream",
     "text": [
      "X_train shape: (60000, 28, 28, 1)\n"
     ]
    }
   ],
   "source": [
    "################ MNIST ######################\n",
    "batch_size = 1028\n",
    "img_rows, img_cols = 28, 28\n",
    "\n",
    "(x_train, y_train), (x_test, y_test) = mnist.load_data() \n",
    "\n",
    "if k.image_data_format() == 'channels_first':\n",
    "    x_train = x_train.reshape(x_train.shape[0], 1, img_rows, img_cols)\n",
    "    x_test = x_test.reshape(x_test.shape[0], 1, img_rows, img_cols)\n",
    "    input_shape = (1, img_rows, img_cols)\n",
    "else:\n",
    "    x_train = x_train.reshape(x_train.shape[0], img_rows, img_cols, 1)\n",
    "    x_test = x_test.reshape(x_test.shape[0], img_rows, img_cols, 1)\n",
    "    input_shape = (img_rows, img_cols, 1)\n",
    "#more reshaping\n",
    "x_train = x_train.astype('float32')\n",
    "x_test = x_test.astype('float32')\n",
    "x_train /= 255\n",
    "x_test /= 255\n",
    "print('X_train shape:', x_train.shape) #X_train shape: (60000, 28, 28, 1)\n",
    "\n",
    "num_category = 10\n",
    "y_train = keras.utils.to_categorical(y_train, num_category)\n",
    "y_test = keras.utils.to_categorical(y_test, num_category)"
   ]
  },
  {
   "cell_type": "code",
   "execution_count": 12,
   "metadata": {},
   "outputs": [],
   "source": [
    "class CustomAugmentation(object):\n",
    "    \n",
    "    kernel = np.ones((3,3),np.uint8)\n",
    "    \n",
    "    def __init__(self, erosion = False, dilation = False):\n",
    "        self.erosion = erosion\n",
    "        self.dilation = dilation\n",
    "    \n",
    "    def __call__(self, img):\n",
    "        \n",
    "        randomNumber = np.random.random()\n",
    "        \n",
    "        #Erosion or dilation applied randomly\n",
    "        \n",
    "        if randomNumber < 0.9:\n",
    "            pass\n",
    "        elif randomNumber < 0.95:\n",
    "            if self.erosion == True:\n",
    "                img = cv2.erode(img,CustomAugmentation.kernel,iterations = 1)\n",
    "                img = img.reshape(28,28,1)\n",
    "        else:\n",
    "            if self.dilation == True:\n",
    "                img = cv2.dilate(img,CustomAugmentation.kernel,iterations = 1)\n",
    "                img = img.reshape(28,28,1)\n",
    "                \n",
    "        return img\n",
    "\n",
    "preprocessor = CustomAugmentation(erosion = True, dilation = True)\n",
    "\n",
    "datagen = ImageDataGenerator(\n",
    "    preprocessing_function = preprocessor,\n",
    "    featurewise_center=False,  # set input mean to 0 over the dataset\n",
    "    samplewise_center=False,  # set each sample mean to 0\n",
    "    featurewise_std_normalization=False,  # divide inputs by std of the dataset\n",
    "    samplewise_std_normalization=False,  # divide each input by its std\n",
    "    zca_whitening=False,  # apply ZCA whitening\n",
    "    zoom_range=0.1,\n",
    "    rotation_range=10,  # randomly rotate images in the range (degrees, 0 to 180)\n",
    "    width_shift_range=0.1,  # randomly shift images horizontally (fraction of total width)\n",
    "    height_shift_range=0.1,  # randomly shift images vertically (fraction of total height)\n",
    "    horizontal_flip=False,  # randomly flip images\n",
    "    vertical_flip=False)  # randomly flip images\n",
    "# (std, mean, and principal components if ZCA whitening is applied).\n",
    "\n",
    "def lr_scheduler(epoch):\n",
    "            return learning_rate * (0.5 ** (epoch // lr_drop))\n",
    "\n",
    "filepath = 'MNIST_Classifier-{epoch:02d}-{val_acc:.2f}.model'\n",
    "# reduce_lr = keras.callbacks.LearningRateScheduler(lr_scheduler)\n",
    "reduce_lr = keras.callbacks.LearningRateScheduler(lambda x: 1e-3 * 0.95 ** x)\n",
    "earlystop = keras.callbacks.EarlyStopping(monitor='val_acc', min_delta=0, patience=2, verbose=0, mode='auto')\n",
    "checkpoint = keras.callbacks.ModelCheckpoint(filepath, monitor='val_loss', verbose=0, save_best_only=True, save_weights_only=False, mode='auto', period=1)\n",
    "cb_list = [reduce_lr, earlystop, checkpoint]"
   ]
  },
  {
   "cell_type": "code",
   "execution_count": 13,
   "metadata": {},
   "outputs": [
    {
     "name": "stdout",
     "output_type": "stream",
     "text": [
      "_________________________________________________________________\n",
      "Layer (type)                 Output Shape              Param #   \n",
      "=================================================================\n",
      "conv2d_29 (Conv2D)           (None, 26, 26, 32)        320       \n",
      "_________________________________________________________________\n",
      "batch_normalization_29 (Batc (None, 26, 26, 32)        128       \n",
      "_________________________________________________________________\n",
      "conv2d_30 (Conv2D)           (None, 24, 24, 32)        9248      \n",
      "_________________________________________________________________\n",
      "batch_normalization_30 (Batc (None, 24, 24, 32)        128       \n",
      "_________________________________________________________________\n",
      "conv2d_31 (Conv2D)           (None, 12, 12, 32)        25632     \n",
      "_________________________________________________________________\n",
      "batch_normalization_31 (Batc (None, 12, 12, 32)        128       \n",
      "_________________________________________________________________\n",
      "dropout_13 (Dropout)         (None, 12, 12, 32)        0         \n",
      "_________________________________________________________________\n",
      "conv2d_32 (Conv2D)           (None, 10, 10, 64)        18496     \n",
      "_________________________________________________________________\n",
      "batch_normalization_32 (Batc (None, 10, 10, 64)        256       \n",
      "_________________________________________________________________\n",
      "conv2d_33 (Conv2D)           (None, 8, 8, 64)          36928     \n",
      "_________________________________________________________________\n",
      "batch_normalization_33 (Batc (None, 8, 8, 64)          256       \n",
      "_________________________________________________________________\n",
      "conv2d_34 (Conv2D)           (None, 4, 4, 64)          102464    \n",
      "_________________________________________________________________\n",
      "batch_normalization_34 (Batc (None, 4, 4, 64)          256       \n",
      "_________________________________________________________________\n",
      "dropout_14 (Dropout)         (None, 4, 4, 64)          0         \n",
      "_________________________________________________________________\n",
      "conv2d_35 (Conv2D)           (None, 1, 1, 128)         131200    \n",
      "_________________________________________________________________\n",
      "batch_normalization_35 (Batc (None, 1, 1, 128)         512       \n",
      "_________________________________________________________________\n",
      "flatten_5 (Flatten)          (None, 128)               0         \n",
      "_________________________________________________________________\n",
      "dropout_15 (Dropout)         (None, 128)               0         \n",
      "_________________________________________________________________\n",
      "dense_5 (Dense)              (None, 10)                1290      \n",
      "=================================================================\n",
      "Total params: 327,242\n",
      "Trainable params: 326,410\n",
      "Non-trainable params: 832\n",
      "_________________________________________________________________\n"
     ]
    }
   ],
   "source": [
    "\n",
    "model = Sequential()\n",
    "\n",
    "model.add(Conv2D(32, kernel_size = 3, activation='relu', input_shape = (28, 28, 1)))\n",
    "model.add(BatchNormalization())\n",
    "\n",
    "model.add(Conv2D(32, kernel_size = 3, activation='relu'))\n",
    "model.add(BatchNormalization())\n",
    "\n",
    "model.add(Conv2D(32, kernel_size = 5, strides=2, padding='same', activation='relu'))\n",
    "model.add(BatchNormalization())\n",
    "model.add(Dropout(0.4))\n",
    "\n",
    "model.add(Conv2D(64, kernel_size = 3, activation='relu'))\n",
    "model.add(BatchNormalization())\n",
    "\n",
    "model.add(Conv2D(64, kernel_size = 3, activation='relu'))\n",
    "model.add(BatchNormalization())\n",
    "\n",
    "model.add(Conv2D(64, kernel_size = 5, strides=2, padding='same', activation='relu'))\n",
    "model.add(BatchNormalization())\n",
    "model.add(Dropout(0.4))\n",
    "\n",
    "model.add(Conv2D(128, kernel_size = 4, activation='relu'))\n",
    "model.add(BatchNormalization())\n",
    "\n",
    "model.add(Flatten())\n",
    "model.add(Dropout(0.4))\n",
    "model.add(Dense(10, activation='softmax'))\n",
    "\n",
    "\n",
    "model.compile(optimizer=\"adam\", loss=\"categorical_crossentropy\", metrics=[\"accuracy\"])\n",
    "model.summary()"
   ]
  },
  {
   "cell_type": "code",
   "execution_count": 14,
   "metadata": {},
   "outputs": [
    {
     "name": "stdout",
     "output_type": "stream",
     "text": [
      "Epoch 1/25\n",
      "58/58 [==============================] - 7s 128ms/step - loss: 0.9744 - acc: 0.7042 - val_loss: 0.1387 - val_acc: 0.9591\n",
      "Epoch 2/25\n",
      "58/58 [==============================] - 7s 123ms/step - loss: 0.2458 - acc: 0.9240 - val_loss: 0.0635 - val_acc: 0.9801\n",
      "Epoch 3/25\n",
      "58/58 [==============================] - 7s 122ms/step - loss: 0.1628 - acc: 0.9503 - val_loss: 0.0363 - val_acc: 0.9873\n",
      "Epoch 4/25\n",
      "58/58 [==============================] - 7s 122ms/step - loss: 0.1230 - acc: 0.9625 - val_loss: 0.0334 - val_acc: 0.9885\n",
      "Epoch 5/25\n",
      "58/58 [==============================] - 7s 122ms/step - loss: 0.0998 - acc: 0.9696 - val_loss: 0.0240 - val_acc: 0.9911\n",
      "Epoch 6/25\n",
      "58/58 [==============================] - 7s 122ms/step - loss: 0.0911 - acc: 0.9720 - val_loss: 0.0231 - val_acc: 0.9920\n",
      "Epoch 7/25\n",
      "58/58 [==============================] - 7s 122ms/step - loss: 0.0786 - acc: 0.9763 - val_loss: 0.0209 - val_acc: 0.9935\n",
      "Epoch 8/25\n",
      "58/58 [==============================] - 7s 122ms/step - loss: 0.0726 - acc: 0.9773 - val_loss: 0.0202 - val_acc: 0.9936\n",
      "Epoch 9/25\n",
      "58/58 [==============================] - 7s 122ms/step - loss: 0.0667 - acc: 0.9795 - val_loss: 0.0193 - val_acc: 0.9932\n",
      "Epoch 10/25\n",
      "58/58 [==============================] - 7s 121ms/step - loss: 0.0631 - acc: 0.9810 - val_loss: 0.0168 - val_acc: 0.9942\n",
      "Epoch 11/25\n",
      "58/58 [==============================] - 7s 120ms/step - loss: 0.0583 - acc: 0.9822 - val_loss: 0.0173 - val_acc: 0.9942\n",
      "Epoch 12/25\n",
      "58/58 [==============================] - 7s 121ms/step - loss: 0.0564 - acc: 0.9830 - val_loss: 0.0184 - val_acc: 0.9945\n",
      "Epoch 13/25\n",
      "58/58 [==============================] - 7s 122ms/step - loss: 0.0516 - acc: 0.9842 - val_loss: 0.0209 - val_acc: 0.9932\n",
      "Epoch 14/25\n",
      "58/58 [==============================] - 7s 121ms/step - loss: 0.0485 - acc: 0.9851 - val_loss: 0.0171 - val_acc: 0.9947\n",
      "Epoch 15/25\n",
      "58/58 [==============================] - 7s 121ms/step - loss: 0.0466 - acc: 0.9858 - val_loss: 0.0142 - val_acc: 0.9960\n",
      "Epoch 16/25\n",
      "58/58 [==============================] - 7s 122ms/step - loss: 0.0458 - acc: 0.9858 - val_loss: 0.0145 - val_acc: 0.9948\n",
      "Epoch 17/25\n",
      "58/58 [==============================] - 7s 121ms/step - loss: 0.0421 - acc: 0.9876 - val_loss: 0.0137 - val_acc: 0.9953\n"
     ]
    }
   ],
   "source": [
    "\n",
    "cnn = model.fit_generator(datagen.flow(x_train, y_train,\n",
    "                                               batch_size=batch_size),\n",
    "                                  \n",
    "                                steps_per_epoch=x_train.shape[0] // batch_size,\n",
    "                                epochs=maxepochs,\n",
    "                                validation_data=(x_test, y_test),callbacks=cb_list, verbose=1)\n"
   ]
  },
  {
   "cell_type": "code",
   "execution_count": 16,
   "metadata": {},
   "outputs": [
    {
     "data": {
      "image/png": "[encoded data removed]",
      "text/plain": [
       "<Figure size 576x432 with 1 Axes>"
      ]
     },
     "metadata": {
      "needs_background": "light"
     },
     "output_type": "display_data"
    },
    {
     "data": {
      "image/png": "[encoded data removed]",
      "text/plain": [
       "<Figure size 576x432 with 1 Axes>"
      ]
     },
     "metadata": {
      "needs_background": "light"
     },
     "output_type": "display_data"
    }
   ],
   "source": [
    "plt.figure(2)\n",
    "plt.plot(cnn.history['acc'],'r')\n",
    "plt.plot(cnn.history['val_acc'],'g')\n",
    "plt.xticks(np.arange(0, 18, 2.0))\n",
    "plt.rcParams['figure.figsize'] = (8, 6)\n",
    "plt.xlabel(\"Num of Epochs\")\n",
    "plt.ylabel(\"Accuracy\")\n",
    "plt.title(\"Training Accuracy vs Validation Accuracy\")\n",
    "plt.legend(['train','validation'])\n",
    " \n",
    "plt.figure(3)\n",
    "plt.plot(cnn.history['loss'],'r')\n",
    "plt.plot(cnn.history['val_loss'],'g')\n",
    "plt.xticks(np.arange(0, 18, 2.0))\n",
    "plt.rcParams['figure.figsize'] = (8, 6)\n",
    "plt.xlabel(\"Num of Epochs\")\n",
    "plt.ylabel(\"Loss\")\n",
    "plt.title(\"Training Loss vs Validation Loss\")\n",
    "plt.legend(['train','validation'])\n",
    "plt.show()"
   ]
  },
  {
   "cell_type": "code",
   "execution_count": 18,
   "metadata": {},
   "outputs": [
    {
     "name": "stdout",
     "output_type": "stream",
     "text": [
      "Training Accuracy: 99.58%\n",
      "Validation Accuracy: 99.53%\n"
     ]
    }
   ],
   "source": [
    "scores = model.evaluate(x_train, y_train, verbose=0)\n",
    "print(\"Training Accuracy: %.2f%%\" % (scores[1]*100))\n",
    "scores = model.evaluate(x_test, y_test, verbose=0)\n",
    "print(\"Validation Accuracy: %.2f%%\" % (scores[1]*100))"
   ]
  }
 ],
 "metadata": {
  "kernelspec": {
   "display_name": "Python 3",
   "language": "python",
   "name": "python3"
  },
  "language_info": {
   "codemirror_mode": {
    "name": "ipython",
    "version": 3
   },
   "file_extension": ".py",
   "mimetype": "text/x-python",
   "name": "python",
   "nbconvert_exporter": "python",
   "pygments_lexer": "ipython3",
   "version": "3.6.8"
  }
 },
 "nbformat": 4,
 "nbformat_minor": 2
}
