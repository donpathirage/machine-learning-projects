{
 "cells": [
  {
   "cell_type": "code",
   "execution_count": null,
   "metadata": {},
   "outputs": [],
   "source": [
    "import matplotlib.pyplot as plt\n",
    "import pandas as pd\n",
    "import numpy as np"
   ]
  },
  {
   "cell_type": "code",
   "execution_count": null,
   "metadata": {},
   "outputs": [],
   "source": [
    "data = pd.read_csv('train.csv').as_matrix()"
   ]
  },
  {
   "cell_type": "code",
   "execution_count": null,
   "metadata": {},
   "outputs": [],
   "source": [
    "img_shape=(64,84)\n",
    "dataset_sz = 5000\n",
    "max_digits_per_image = 3"
   ]
  },
  {
   "cell_type": "code",
   "execution_count": null,
   "metadata": {},
   "outputs": [],
   "source": [
    "np.random.seed(1234)"
   ]
  },
  {
   "cell_type": "code",
   "execution_count": null,
   "metadata": {},
   "outputs": [],
   "source": [
    "def combine(single_images,max_digits_per_image, canvas_sz):\n",
    "    # Number (random) of digits to be combined between 1 and max_digits_per_image.\n",
    "    nb_digits = np.random.randint(low=2,high=max_digits_per_image+1)\n",
    "    # Indices (random) of digit images to be combined.\n",
    "    rand_indices = np.random.randint(0,len(single_images),nb_digits)\n",
    "    \n",
    "    src_images = single_images[rand_indices,1:]\n",
    "    src_labels = single_images[rand_indices,0 ]\n",
    "    \n",
    "    # Segmented output image once channel per digit.\n",
    "    labels  = np.zeros([*canvas_sz,10],dtype=single_images.dtype)\n",
    "    \n",
    "    for i in range(nb_digits):\n",
    "        x_off_start = np.random.randint(i*28,i*28+10)\n",
    "        y_off_start = np.random.randint(0,canvas_sz[0]-28+1)\n",
    "        \n",
    "        x_off_end = x_off_start + 28\n",
    "        y_off_end = y_off_start + 28\n",
    "        \n",
    "        if x_off_end <= canvas_sz[1] and y_off_end <= canvas_sz[0]:\n",
    "            src_img = src_images[i].reshape([28,28])\n",
    "            src_digit = src_labels[i]\n",
    "            labels[y_off_start:y_off_end, x_off_start:x_off_end,src_digit] = src_img\n",
    "            \n",
    "    canvas = np.max(labels, axis=2)\n",
    "    labels = np.clip(labels,a_min=0,a_max=1)\n",
    "        \n",
    "    return canvas, labels\n",
    "        \n",
    "    "
   ]
  },
  {
   "cell_type": "code",
   "execution_count": null,
   "metadata": {},
   "outputs": [],
   "source": [
    "combined = []\n",
    "segmented = []"
   ]
  },
  {
   "cell_type": "code",
   "execution_count": null,
   "metadata": {},
   "outputs": [],
   "source": [
    "for i in range(dataset_sz):\n",
    "    img, segments = combine(data,max_digits_per_image, img_shape)\n",
    "    combined.append(img)\n",
    "    segmented.append(segments)"
   ]
  },
  {
   "cell_type": "code",
   "execution_count": null,
   "metadata": {},
   "outputs": [],
   "source": [
    "np.save('combined.npy',combined)\n",
    "np.save('segmented.npy',segmented)"
   ]
  },
  {
   "cell_type": "code",
   "execution_count": null,
   "metadata": {},
   "outputs": [],
   "source": [
    "combined = np.load('combined.npy')\n",
    "segmented = np.load('segmented.npy')"
   ]
  },
  {
   "cell_type": "code",
   "execution_count": null,
   "metadata": {},
   "outputs": [],
   "source": [
    "rand_index = np.random.randint(0,len(combined))\n",
    "c,s = combined[rand_index], segmented[rand_index]\n",
    "\n",
    "plt.imshow(c, cmap='gray')\n",
    "plt.show()\n",
    "\n",
    "for i in range(10):\n",
    "    #plt.figure(figsize=(0.5,0.5))\n",
    "    plt.imshow(s[:,:,i],cmap='gray')\n",
    "    plt.show()"
   ]
  },
  {
   "cell_type": "code",
   "execution_count": null,
   "metadata": {},
   "outputs": [],
   "source": []
  }
 ],
 "metadata": {
  "kernelspec": {
   "display_name": "Python 3",
   "language": "python",
   "name": "python3"
  },
  "language_info": {
   "codemirror_mode": {
    "name": "ipython",
    "version": 3
   },
   "file_extension": ".py",
   "mimetype": "text/x-python",
   "name": "python",
   "nbconvert_exporter": "python",
   "pygments_lexer": "ipython3",
   "version": "3.6.4"
  }
 },
 "nbformat": 4,
 "nbformat_minor": 2
}
