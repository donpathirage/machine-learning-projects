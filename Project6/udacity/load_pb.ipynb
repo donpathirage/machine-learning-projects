{
 "cells": [
  {
   "cell_type": "code",
   "execution_count": 1,
   "metadata": {},
   "outputs": [
    {
     "name": "stderr",
     "output_type": "stream",
     "text": [
      "/home/farhanhubble/anaconda3/envs/dl-tflow-src/lib/python3.6/site-packages/h5py/__init__.py:36: FutureWarning: Conversion of the second argument of issubdtype from `float` to `np.floating` is deprecated. In future, it will be treated as `np.float64 == np.dtype(float).type`.\n",
      "  from ._conv import register_converters as _register_converters\n"
     ]
    }
   ],
   "source": [
    "import tensorflow as tf\n",
    "import matplotlib.pyplot as plt\n",
    "import pandas as pd\n",
    "import numpy as np"
   ]
  },
  {
   "cell_type": "code",
   "execution_count": 2,
   "metadata": {},
   "outputs": [],
   "source": [
    "data = pd.read_csv('train.csv').as_matrix()"
   ]
  },
  {
   "cell_type": "code",
   "execution_count": 3,
   "metadata": {},
   "outputs": [],
   "source": [
    "from tensorflow.core.framework import graph_pb2"
   ]
  },
  {
   "cell_type": "code",
   "execution_count": 4,
   "metadata": {},
   "outputs": [],
   "source": [
    "graph_def = graph_pb2.GraphDef()"
   ]
  },
  {
   "cell_type": "code",
   "execution_count": 5,
   "metadata": {},
   "outputs": [],
   "source": [
    "def load_graph():\n",
    "    with open('./checkpoints/frozen_graph.pb', \"rb\") as f:\n",
    "        graph_def.ParseFromString(f.read())\n",
    "        with tf.Graph().as_default() as graph:\n",
    "            tf.import_graph_def(graph_def, name=\"\")\n",
    "            return graph"
   ]
  },
  {
   "cell_type": "code",
   "execution_count": 6,
   "metadata": {},
   "outputs": [],
   "source": [
    "frozen_graph = load_graph()"
   ]
  },
  {
   "cell_type": "code",
   "execution_count": null,
   "metadata": {},
   "outputs": [],
   "source": [
    "with tf.Session(graph=frozen_graph) as sess:\n",
    "    # Get placeholder and output tensors.\n",
    "    # Tensor names are derived from the operation that produced them\n",
    "    # We named operations while building the graph NOT tensors.\n",
    "    input_ph = tf.get_default_graph().get_tensor_by_name('input_image:0')\n",
    "    #labels_ph = tf.get_default_graph().get_tensor_by_name('labels:0')\n",
    "    #learning_rate_ph = tf.get_default_graph().get_tensor_by_name('learning_rate:0')\n",
    "    output_prediction = tf.get_default_graph().get_tensor_by_name('predictions:0')\n",
    "    \n",
    "    # Select 5 random images\n",
    "    indices = np.random.randint(0,len(data),[5])\n",
    "    X = (data[indices,1:]-127)/127\n",
    "    y = data[indices,0].reshape([-1,1])\n",
    "    \n",
    "    predictions = sess.run(output_prediction,feed_dict={input_ph:X})\n",
    "    y_predicted = np.argmax(predictions,axis=1).flatten()\n",
    "    print(y_predicted)\n"
   ]
  },
  {
   "cell_type": "code",
   "execution_count": null,
   "metadata": {},
   "outputs": [],
   "source": [
    "for i in range(len(X)):\n",
    "    plt.figure(figsize=(0.25,0.25))\n",
    "    plt.imshow(X[i].reshape([28,28]),cmap='gray')\n",
    "    plt.title('Predicted as {}'.format(y_predicted[i]))\n",
    "    plt.show()"
   ]
  },
  {
   "cell_type": "code",
   "execution_count": null,
   "metadata": {},
   "outputs": [],
   "source": []
  }
 ],
 "metadata": {
  "kernelspec": {
   "display_name": "Python 3",
   "language": "python",
   "name": "python3"
  },
  "language_info": {
   "codemirror_mode": {
    "name": "ipython",
    "version": 3
   },
   "file_extension": ".py",
   "mimetype": "text/x-python",
   "name": "python",
   "nbconvert_exporter": "python",
   "pygments_lexer": "ipython3",
   "version": "3.6.4"
  }
 },
 "nbformat": 4,
 "nbformat_minor": 2
}
