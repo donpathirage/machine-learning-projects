{
 "cells": [
  {
   "cell_type": "markdown",
   "metadata": {},
   "source": [
    "## Key Insights:\n",
    "- Batch size affects quality of learning.\n",
    "- Without an activation function cost just diverges.\n",
    "- Even the last deconvolution requires activation\n",
    "- Need to threshold results at > 0.1 for each channel to visualize correctly or too many channels appear active (conside pixels that are dark across all channels, argmax will still make one of the pixels the winner ( Do we need an extra channel in the training labels for background)\n",
    "- Also need to apply argmax becasue in keeping with the spirit of softmax each pixel should belong to exactly one class\n",
    "- Skip connections might be necessary"
   ]
  },
  {
   "cell_type": "code",
   "execution_count": 1,
   "metadata": {},
   "outputs": [
    {
     "name": "stderr",
     "output_type": "stream",
     "text": [
      "/home/farhanhubble/anaconda3/envs/dl-tflow-src/lib/python3.6/site-packages/h5py/__init__.py:36: FutureWarning: Conversion of the second argument of issubdtype from `float` to `np.floating` is deprecated. In future, it will be treated as `np.float64 == np.dtype(float).type`.\n",
      "  from ._conv import register_converters as _register_converters\n"
     ]
    }
   ],
   "source": [
    "%matplotlib inline\n",
    "\n",
    "import numpy as np\n",
    "import matplotlib.pyplot as plt\n",
    "import pandas as pd\n",
    "import tensorflow as tf\n",
    "from sklearn.utils import shuffle\n",
    "from tensorflow.core.framework import graph_pb2\n",
    "from sklearn.metrics import jaccard_similarity_score"
   ]
  },
  {
   "cell_type": "code",
   "execution_count": 2,
   "metadata": {},
   "outputs": [],
   "source": [
    "X = np.load('combined.npy')\n",
    "y = np.load('segmented.npy')"
   ]
  },
  {
   "cell_type": "code",
   "execution_count": 3,
   "metadata": {},
   "outputs": [],
   "source": [
    "SEGMENTATION_TYPE = ['ALL_DIGITS', 'BINARY'][0]\n",
    "if SEGMENTATION_TYPE is 'BINARY':\n",
    "    num_classes = 2\n",
    "    # Collapse per-pixel labels into digit vs non-digit.\n",
    "    y = np.max(y,axis=3)\n",
    "    y=np.stack((y==1,y==0),axis=-1)\n",
    "elif SEGMENTATION_TYPE is 'ALL_DIGITS':\n",
    "    num_classes = 10\n"
   ]
  },
  {
   "cell_type": "code",
   "execution_count": 4,
   "metadata": {},
   "outputs": [
    {
     "name": "stdout",
     "output_type": "stream",
     "text": [
      "(5000, 64, 84) (5000, 64, 84, 10)\n"
     ]
    }
   ],
   "source": [
    "print(X.shape, y.shape)"
   ]
  },
  {
   "cell_type": "code",
   "execution_count": 5,
   "metadata": {},
   "outputs": [],
   "source": [
    "#Shuffle\n",
    "X,y = shuffle(X,y)\n",
    "\n",
    "X = X.astype(np.float32)\n",
    "y = y.astype(np.float32)"
   ]
  },
  {
   "cell_type": "code",
   "execution_count": 6,
   "metadata": {},
   "outputs": [],
   "source": [
    "# Normalize\n",
    "X -= 127.0\n",
    "X /= 127.0"
   ]
  },
  {
   "cell_type": "code",
   "execution_count": 7,
   "metadata": {},
   "outputs": [
    {
     "data": {
      "image/png": "[encoded data removed]",
      "text/plain": [
       "<matplotlib.figure.Figure at 0x7feb61df0668>"
      ]
     },
     "metadata": {},
     "output_type": "display_data"
    }
   ],
   "source": [
    "#Plot random examples.\n",
    "def plot_grid(X_plot, y_plot):\n",
    "\n",
    "    fig = plt.figure(figsize=(12,8))\n",
    "\n",
    "    for index, (x_, y_) in enumerate(zip(X_plot, y_plot)):\n",
    "        ax = plt.subplot2grid((len(X_plot),y_plot[0].shape[-1]+1), (index,0), fig=fig, xticks=[], yticks=[])\n",
    "        ax.imshow(x_, cmap='gray', vmin=0, vmax=1)\n",
    "        #plt.show()\n",
    "        for i in range(y_.shape[-1]):\n",
    "            ax = plt.subplot2grid((len(X_plot),y_plot[0].shape[-1]+1), (index,i+1), fig=fig, xticks=[], yticks=[] )\n",
    "            ax.imshow(y_[:,:,i], cmap='gray', vmin=0, vmax=1)\n",
    "    plt.show()\n",
    "\n",
    "indices = np.random.randint(low=0, high=len(X), size=5)\n",
    "plot_grid(X[indices], y[indices])\n",
    "  "
   ]
  },
  {
   "cell_type": "code",
   "execution_count": 8,
   "metadata": {},
   "outputs": [],
   "source": [
    "# Split it into train and validation\n",
    "n_train = int(0.7 * len(y))\n",
    "\n",
    "y_train, X_train, y_test, X_test = y[: n_train], X[: n_train, :], y[n_train:], X[n_train:, :]"
   ]
  },
  {
   "cell_type": "code",
   "execution_count": 9,
   "metadata": {},
   "outputs": [],
   "source": [
    "def get_next_batch(batch_size, X, y):\n",
    "    for start in range(0,len(y),batch_size):\n",
    "        end = min(len(y), start+batch_size)\n",
    "        yield X[start:end] , y[start:end]"
   ]
  },
  {
   "cell_type": "code",
   "execution_count": 10,
   "metadata": {},
   "outputs": [],
   "source": [
    "def load_graph(path_protobuf):\n",
    "    with open(path_protobuf, \"rb\") as f:\n",
    "        graph_def = graph_pb2.GraphDef()\n",
    "        graph_def.ParseFromString(f.read())\n",
    "        with tf.Graph().as_default() as graph:\n",
    "            # Createa new placeholder\n",
    "            input_big = tf.placeholder(dtype=tf.float32, shape=(None, X.shape[1],X.shape[2],1), name='input_image_big')\n",
    "            # Import the graph and replace the reshape node with new placeholder.\n",
    "            tf.import_graph_def(graph_def, name=\"\", input_map={\"reshaped_image\": input_big})\n",
    "            return graph"
   ]
  },
  {
   "cell_type": "code",
   "execution_count": 31,
   "metadata": {},
   "outputs": [],
   "source": [
    "def nn(nb_classes):\n",
    "    ## Helper functions to reduce clutter.\n",
    "    _conv1x1 = lambda tensor, nb_filters :\\\n",
    "     tf.layers.conv2d(tensor, \n",
    "                    nb_filters, \n",
    "                    1, \n",
    "                    1,\n",
    "                    activation=tf.nn.relu)\n",
    "\n",
    "    _upsample = lambda tensor, kernel_sz, stride, nb_filters :\\\n",
    "     tf.layers.conv2d_transpose(tensor, \n",
    "                                nb_filters, \n",
    "                                kernel_sz, \n",
    "                                stride,\n",
    "                                activation=tf.nn.relu)\n",
    "\n",
    "    # Get all required tensors from our pretrained decoder(CNN).\n",
    "    encoder = load_graph('checkpoints/frozen_graph.pb')\n",
    "    with encoder.as_default():\n",
    "        input_ph = encoder.get_tensor_by_name('input_image_big:0')\n",
    "        maxpool1_out = encoder.get_tensor_by_name('pool1/MaxPool:0')\n",
    "        maxpool2_out = encoder.get_tensor_by_name('poool2/MaxPool:0')\n",
    "\n",
    "        enc_l1 = _upsample(maxpool2_out,2,1,128) \n",
    "        enc_l2 = _upsample(enc_l1,2,1,128)\n",
    "        enc_l3 = _upsample(enc_l2,2,2,64)\n",
    "        enc_l4 = _upsample(enc_l3,2,2,32)\n",
    "        # Reduce number of channels to number of outputs.\n",
    "        enc_l5 = _conv1x1(enc_l4,nb_classes)\n",
    "\n",
    "        # Pixel-wise softamx prediction with nb_class predictions per pixels\n",
    "        predictions_softmax_op = tf.identity(tf.nn.softmax(enc_l5), name='predictions_softmax')\n",
    "        # Thresholded predictions at the natural threshold. The strict inequality ensures that\n",
    "        # a pixel that has probability 0.1 across channels is classified as belonging to none \n",
    "        # instead of belonging to all of the classes!!!\n",
    "        predictions_thresholded_op = predictions_softmax_op > 0.1\n",
    "        # Pixel-wise most likely class index\n",
    "        predictions_argmax_op = tf.argmax(predictions_softmax_op,axis=-1)\n",
    "        # One hot representation of pixel-wise class index, used for\n",
    "        # in metrics lile (IoU) and for improved visualization \n",
    "        predictions_onehot_op = tf.one_hot(predictions_argmax_op,depth=nb_classes,axis=-1)\n",
    "        predictions_pretty_op = tf.logical_and(tf.cast(predictions_onehot_op,tf.bool),\n",
    "                                               predictions_thresholded_op)\n",
    "        \n",
    "        \n",
    "        logits = tf.reshape(enc_l5,[-1,num_classes], name='logits')        \n",
    "        labels_ph = tf.placeholder(dtype=tf.int32, shape=(None, y.shape[1], y.shape[2], y.shape[3]), name='segmentation_labels')\n",
    "        lr_ph = tf.placeholder(dtype=tf.float32, name='learning_rate')\n",
    "        labels_flat = tf.reshape(labels_ph,[-1,num_classes])\n",
    "        cost_op = tf.reduce_mean(tf.nn.softmax_cross_entropy_with_logits(labels=labels_flat, logits=logits))\n",
    "        \n",
    "        # Apply an optimizer\n",
    "        optimizer_op = tf.train.AdamOptimizer(learning_rate=lr_ph).minimize(cost_op)\n",
    "\n",
    "    # Return the graph along with all operation that may be needed.\n",
    "    # The graph will be passed to tf.Session() because we have added \n",
    "    # new opearations to this graph not the default graph\n",
    "    return encoder, input_ph, labels_ph, lr_ph, optimizer_op, cost_op, predictions_softmax_op, predictions_thresholded_op, predictions_pretty_op"
   ]
  },
  {
   "cell_type": "code",
   "execution_count": 32,
   "metadata": {},
   "outputs": [],
   "source": [
    "new_graph, input_ph, labels_ph, lr_ph, optimizer_op, cost_op, prediction_softmax_op, predictions_thresholded_op, predictions_pretty_op = nn(nb_classes=num_classes)"
   ]
  },
  {
   "cell_type": "code",
   "execution_count": 33,
   "metadata": {},
   "outputs": [
    {
     "name": "stdout",
     "output_type": "stream",
     "text": [
      "(?, 64, 84, 10)\n"
     ]
    }
   ],
   "source": [
    "print(prediction_op.shape)"
   ]
  },
  {
   "cell_type": "code",
   "execution_count": 34,
   "metadata": {},
   "outputs": [],
   "source": [
    "def eval_cost(cost_op, X, y, batch_sz):\n",
    "    total_cost = 0\n",
    "    nb_batches = 0\n",
    "    for batch_X,batch_y in get_next_batch(batch_size,X,y):\n",
    "        batch_X = np.expand_dims(batch_X,3)\n",
    "        feed_dict={input_ph: batch_X, labels_ph: batch_y}\n",
    "        total_cost += cost_op.eval(feed_dict=feed_dict)\n",
    "        nb_batches += 1\n",
    "    return total_cost / nb_batches\n",
    "\n",
    "\n",
    "def predict(prediction_op, X):\n",
    "    X_ = np.expand_dims(X,3)\n",
    "    feed_dict={input_ph: X_}\n",
    "    result = prediction_op.eval(feed_dict=feed_dict)\n",
    "    return result\n",
    "\n",
    "def eval_IoU(prediction_op, X, y, batch_sz):\n",
    "    nb_batches = 0\n",
    "    total_iou = 0\n",
    "    for batch_X, batch_y in get_next_batch(batch_sz,X,y):\n",
    "        predictions =  predict(prediction_op, batch_X)\n",
    "        \n",
    "        # Build intersection and union matrices (NxHxWxC)\n",
    "        intersection_matrix = np.logical_and(batch_y, predictions).astype(np.float)\n",
    "        union_matrix = np.logical_or(np.logical_xor(batch_y, predictions),intersection_matrix).astype(np.float) \n",
    "        \n",
    "        # Take mean over miniba\n",
    "        mean_intersection_matrix = np.mean(intersection_matrix,axis=0)\n",
    "        mean_union_matrix = np.mean(union_matrix,axis=0)\n",
    "        \n",
    "        # Sum up over all dimensions (HxWxC) to get a single value for ntersetion and union.\n",
    "        value_intersection = np.sum(mean_intersection_matrix)\n",
    "        value_union = np.sum(mean_union_matrix)\n",
    "        \n",
    "        # If union is zero intersection will be zero too and IoU is undefined.\n",
    "        if value_union is not  0:\n",
    "            total_iou += value_intersection/value_union\n",
    "        \n",
    "        nb_batches += 1\n",
    "    \n",
    "    return 100*total_iou/nb_batches\n"
   ]
  },
  {
   "cell_type": "code",
   "execution_count": 35,
   "metadata": {
    "scrolled": true
   },
   "outputs": [
    {
     "name": "stderr",
     "output_type": "stream",
     "text": [
      " 12%|█▎        | 25/200 [01:46<12:28,  4.28s/it]"
     ]
    },
    {
     "name": "stdout",
     "output_type": "stream",
     "text": [
      "0.045911916 51.40856907697307 50.549707286693206 48.212545460993034\n"
     ]
    },
    {
     "name": "stderr",
     "output_type": "stream",
     "text": [
      " 25%|██▌       | 50/200 [03:34<10:42,  4.28s/it]"
     ]
    },
    {
     "name": "stdout",
     "output_type": "stream",
     "text": [
      "0.038316708 54.74391902958965 54.04676085554554 49.536855214775315\n"
     ]
    },
    {
     "name": "stderr",
     "output_type": "stream",
     "text": [
      " 38%|███▊      | 75/200 [05:19<08:53,  4.26s/it]"
     ]
    },
    {
     "name": "stdout",
     "output_type": "stream",
     "text": [
      "0.044188112 56.989561179254764 55.533649204227906 50.00345432626677\n"
     ]
    },
    {
     "name": "stderr",
     "output_type": "stream",
     "text": [
      " 50%|█████     | 100/200 [07:05<07:05,  4.26s/it]"
     ]
    },
    {
     "name": "stdout",
     "output_type": "stream",
     "text": [
      "0.049509652 59.34732523040291 58.29668546857643 50.92663681931822\n"
     ]
    },
    {
     "name": "stderr",
     "output_type": "stream",
     "text": [
      " 62%|██████▎   | 125/200 [08:51<05:19,  4.25s/it]"
     ]
    },
    {
     "name": "stdout",
     "output_type": "stream",
     "text": [
      "0.0465923 59.90677923007675 58.6095200465149 50.493233124118156\n"
     ]
    },
    {
     "name": "stderr",
     "output_type": "stream",
     "text": [
      " 75%|███████▌  | 150/200 [10:37<03:32,  4.25s/it]"
     ]
    },
    {
     "name": "stdout",
     "output_type": "stream",
     "text": [
      "0.036642842 61.185607790776835 60.510544899447545 50.68470094044407\n"
     ]
    },
    {
     "name": "stderr",
     "output_type": "stream",
     "text": [
      " 88%|████████▊ | 175/200 [12:23<01:46,  4.25s/it]"
     ]
    },
    {
     "name": "stdout",
     "output_type": "stream",
     "text": [
      "0.050545685 62.894596001069665 63.70216055002275 51.578854181546184\n"
     ]
    },
    {
     "name": "stderr",
     "output_type": "stream",
     "text": [
      "100%|██████████| 200/200 [14:09<00:00,  4.25s/it]"
     ]
    },
    {
     "name": "stdout",
     "output_type": "stream",
     "text": [
      "0.01946282 63.29935740648205 60.954431194241586 50.98661299183838\n",
      "Optimization Finished!\n"
     ]
    },
    {
     "name": "stderr",
     "output_type": "stream",
     "text": [
      "\n"
     ]
    }
   ],
   "source": [
    "from tqdm import tqdm\n",
    "\n",
    "epochs = 200\n",
    "batch_size = 4\n",
    "learning_rate = 0.001\n",
    "batches_per_epoch = int(X_train.shape[0]/batch_size)\n",
    "n_train = int(len(y_train)*0.8)\n",
    "\n",
    "\n",
    "\n",
    "# Launch the graph\n",
    "with tf.Session(graph=new_graph) as sess:\n",
    "    summary_writer = tf.summary.FileWriter('./mnist-fcn',sess.graph)\n",
    "    summary_writer.flush()\n",
    "    \n",
    "    sess.run(tf.global_variables_initializer())\n",
    "    \n",
    "    for epoch in tqdm(range(epochs)):\n",
    "        # Shuffle data for cross validation\n",
    "        indices = np.array(range(len(y_train)))\n",
    "        np.random.shuffle(indices)\n",
    "        \n",
    "        train_indices = indices[: n_train]\n",
    "        val_indices = indices[n_train:]\n",
    "        \n",
    "\n",
    "        \n",
    "        y_train_fold, X_train_fold, y_val_fold, X_val_fold = y_train[train_indices], X_train[train_indices, :], \\\n",
    "        y_train[val_indices], X_train[val_indices, :]\n",
    "        \n",
    "        # Loop over all training batches\n",
    "        for x, y in get_next_batch(batch_size, X_train_fold, y_train_fold):\n",
    "            # Convert x to a 4D Tensor by adding an empty dimension because\n",
    "            # The placeholder and the convolution layers expect a 4-D Tensor\n",
    "            # in [N,W,H,C] format.\n",
    "            x_ = np.expand_dims(x,3)\n",
    "            _, cost = sess.run([optimizer_op, cost_op], \n",
    "                                 feed_dict={input_ph:x_, labels_ph:y, lr_ph:learning_rate})\n",
    "        \n",
    "        if (epoch+1) % 25 == 0:\n",
    "            training_IoU  = eval_IoU(predictions_thresholded_op, X_train_fold, y_train_fold, batch_size)\n",
    "            valid_IoU  = eval_IoU(predictions_thresholded_op, X_val_fold, y_val_fold, batch_size)\n",
    "            test_IoU  = eval_IoU(predictions_thresholded_op, X_test, y_test, batch_size)\n",
    "            print(cost, training_IoU, valid_IoU, test_IoU)\n",
    "            \n",
    "#             summary = tf.Summary()\n",
    "#             summary.value.add(tag=\"Train Cost\", simple_value=training_cost)\n",
    "#             summary.value.add(tag=\"Train IoU\", simple_value=training_IoU)\n",
    "#             summary.value.add(tag=\"Validation IoU\", simple_value=valid_IoU)\n",
    "#             summary.value.add(tag=\"Test IoU\", simple_value=test_IoU)\n",
    "#             summary_writer.add_summary(summary,epoch+1)\n",
    "#             summary_writer.flush()\n",
    "\n",
    "    \n",
    "    print(\"Optimization Finished!\")\n",
    "    summary_writer.close()\n",
    "    # Save the graph structure only.\n",
    "    # Need to save weights in a checkpoint file separately.\n",
    "    # The graph structure is saved twice, once as a text file \n",
    "    # with extension '.pbtxt' and then as a binary file with \n",
    "    # extension '.pb'. This is done for demonstration only.\n",
    "    tf.train.write_graph(\n",
    "    tf.get_default_graph().as_graph_def(),\n",
    "    './checkpoints/',\n",
    "    'mnist-fcn.pbtxt',\n",
    "    as_text=True)\n",
    "    \n",
    "    tf.train.write_graph(\n",
    "    tf.get_default_graph().as_graph_def(),\n",
    "    './checkpoints/',\n",
    "    'mnist-fcn.pb',\n",
    "    as_text=False)\n",
    "    \n",
    "    saver = tf.train.Saver()\n",
    "    saver.save(sess,'./checkpoints/mnist-fcn.ckpt',epoch+1)\n",
    "    \n",
    "    result_train = predict(predictions_thresholded_op, X_train[0:10])\n",
    "    result_test = predict(predictions_thresholded_op, X_test[0:10])\n",
    "    raw_train = predict(prediction_softmax_op,X_train[0:10])\n",
    "    raw_test  = predict(prediction_softmax_op,X_test[0:10])"
   ]
  },
  {
   "cell_type": "code",
   "execution_count": 36,
   "metadata": {},
   "outputs": [
    {
     "data": {
      "image/png": "[encoded data removed]",
      "text/plain": [
       "<matplotlib.figure.Figure at 0x7fe9d15a4cc0>"
      ]
     },
     "metadata": {},
     "output_type": "display_data"
    },
    {
     "data": {
      "image/png": "[encoded data removed]",
      "text/plain": [
       "<matplotlib.figure.Figure at 0x7fe9d15a4748>"
      ]
     },
     "metadata": {},
     "output_type": "display_data"
    },
    {
     "data": {
      "image/png": "[encoded data removed]",
      "text/plain": [
       "<matplotlib.figure.Figure at 0x7fe9d15a4208>"
      ]
     },
     "metadata": {},
     "output_type": "display_data"
    },
    {
     "data": {
      "image/png": "[encoded data removed]",
      "text/plain": [
       "<matplotlib.figure.Figure at 0x7fe9d83af5f8>"
      ]
     },
     "metadata": {},
     "output_type": "display_data"
    }
   ],
   "source": [
    "plot_grid(X_train[0:10],result_train)\n",
    "plot_grid(X_train[0:10],y_train[0:10])\n",
    "plot_grid(X_test[0:10], result_test)\n",
    "plot_grid(X_test[0:10], y_test[0:10])"
   ]
  },
  {
   "cell_type": "code",
   "execution_count": null,
   "metadata": {},
   "outputs": [],
   "source": [
    "a = tf.constant(0,dtype=tf.float32,shape=[1,14,19,1])\n",
    "b = tf.pad(tf.layers.conv2d_transpose(a,1,2,1),[[0,0],[1,1],[1,1],[0,0]])\n",
    "c =  tf.pad(tf.layers.conv2d_transpose(b,1,2,2),[[0,0],[2,2],[2,2],[0,0]])\n",
    "print(b.shape,c.shape)"
   ]
  },
  {
   "cell_type": "code",
   "execution_count": null,
   "metadata": {},
   "outputs": [],
   "source": [
    "a = tf.constant(0,dtype=tf.float32,shape=[1,14,19,1])\n",
    "b = tf.layers.conv2d_transpose(a,1,2,1)\n",
    "c = tf.layers.conv2d_transpose(b,1,2,1)\n",
    "d = tf.layers.conv2d_transpose(c,1,2,2)\n",
    "e = tf.layers.conv2d_transpose(d,1,2,2)\n",
    "print(b.shape,c.shape,d.shape, e.shape)"
   ]
  },
  {
   "cell_type": "code",
   "execution_count": null,
   "metadata": {},
   "outputs": [],
   "source": [
    "print(result_train[0,:,:,0])"
   ]
  },
  {
   "cell_type": "code",
   "execution_count": 30,
   "metadata": {},
   "outputs": [
    {
     "data": {
      "text/plain": [
       "<matplotlib.image.AxesImage at 0x7feb1b0fa828>"
      ]
     },
     "execution_count": 30,
     "metadata": {},
     "output_type": "execute_result"
    },
    {
     "data": {
      "image/png": "[encoded data removed]",
      "text/plain": [
       "<matplotlib.figure.Figure at 0x7feb1a904b00>"
      ]
     },
     "metadata": {},
     "output_type": "display_data"
    }
   ],
   "source": [
    "plt.imshow(X_train[3], cmap='gray',vmin=0, vmax=1)"
   ]
  },
  {
   "cell_type": "code",
   "execution_count": null,
   "metadata": {},
   "outputs": [],
   "source": [
    "plt.imshow(np.ones([28,28]), cmap='gray',vmin=0, vmax=1)"
   ]
  },
  {
   "cell_type": "code",
   "execution_count": null,
   "metadata": {},
   "outputs": [],
   "source": []
  }
 ],
 "metadata": {
  "kernelspec": {
   "display_name": "Python 3",
   "language": "python",
   "name": "python3"
  },
  "language_info": {
   "codemirror_mode": {
    "name": "ipython",
    "version": 3
   },
   "file_extension": ".py",
   "mimetype": "text/x-python",
   "name": "python",
   "nbconvert_exporter": "python",
   "pygments_lexer": "ipython3",
   "version": "3.6.4"
  }
 },
 "nbformat": 4,
 "nbformat_minor": 2
}
