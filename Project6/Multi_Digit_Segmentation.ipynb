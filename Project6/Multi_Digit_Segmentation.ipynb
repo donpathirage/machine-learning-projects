{
 "cells": [
  {
   "cell_type": "code",
   "execution_count": 1,
   "metadata": {},
   "outputs": [
    {
     "name": "stderr",
     "output_type": "stream",
     "text": [
      "Using TensorFlow backend.\n"
     ]
    }
   ],
   "source": [
    "import numpy as np\n",
    "import pandas as pd\n",
    "import matplotlib.pyplot as plt\n",
    "import keras\n",
    "import sklearn\n",
    "import sklearn.preprocessing\n",
    "from sklearn.model_selection import train_test_split\n",
    "import sys\n",
    "import tensorflow as tf\n",
    "import cv2\n",
    "\n",
    "mnist_labels = np.load(\"segmented.npy\")\n",
    "_, HEIGHT, WIDTH, N_CLASSES = mnist_labels.shape\n",
    "mnist_inputs = np.load(\"combined.npy\").reshape((-1, HEIGHT, WIDTH, 1))/255\n",
    "\n"
   ]
  },
  {
   "cell_type": "code",
   "execution_count": 2,
   "metadata": {},
   "outputs": [],
   "source": [
    "# mnist_inputs = mnist_inputs.reshape(5000,64,84)"
   ]
  },
  {
   "cell_type": "code",
   "execution_count": 3,
   "metadata": {},
   "outputs": [
    {
     "name": "stderr",
     "output_type": "stream",
     "text": [
      "C:\\Users\\Buster\\Anaconda3\\lib\\site-packages\\matplotlib\\figure.py:98: MatplotlibDeprecationWarning: \n",
      "Adding an axes using the same arguments as a previous axes currently reuses the earlier instance.  In a future version, a new instance will always be created and returned.  Meanwhile, this warning can be suppressed, and the future behavior ensured, by passing a unique label to each axes instance.\n",
      "  \"Adding an axes using the same arguments as a previous axes \"\n"
     ]
    },
    {
     "data": {
      "image/png": "[encoded data removed]",
      "text/plain": [
       "<Figure size 432x288 with 2 Axes>"
      ]
     },
     "metadata": {},
     "output_type": "display_data"
    }
   ],
   "source": [
    "kernel = np.ones((2,2),np.uint8)\n",
    "for x in mnist_inputs:\n",
    "    plt.subplot(121),plt.imshow(x.reshape(64,84),cmap = 'gray')\n",
    "    plt.title('Original Image'), plt.xticks([]), plt.yticks([])\n",
    "    x = cv2.dilate(np.round(x.reshape(64,84)).astype('uint8'),kernel,iterations = 1)\n",
    "    mnist_inputs = np.append(mnist_inputs,x.reshape(1,64,84,1),axis=0)\n",
    "    plt.subplot(122),plt.imshow(x,cmap = 'gray')\n",
    "    plt.title('Edge Image'), plt.xticks([]), plt.yticks([])\n"
   ]
  },
  {
   "cell_type": "code",
   "execution_count": 7,
   "metadata": {},
   "outputs": [
    {
     "name": "stdout",
     "output_type": "stream",
     "text": [
      "WARNING:tensorflow:From C:\\Users\\Buster\\Anaconda3\\lib\\site-packages\\tensorflow\\python\\framework\\op_def_library.py:263: colocate_with (from tensorflow.python.framework.ops) is deprecated and will be removed in a future version.\n",
      "Instructions for updating:\n",
      "Colocations handled automatically by placer.\n",
      "__________________________________________________________________________________________________\n",
      "Layer (type)                    Output Shape         Param #     Connected to                     \n",
      "==================================================================================================\n",
      "input_1 (InputLayer)            (None, 64, 84, 1)    0                                            \n",
      "__________________________________________________________________________________________________\n",
      "zero_padding2d_1 (ZeroPadding2D (None, 64, 96, 1)    0           input_1[0][0]                    \n",
      "__________________________________________________________________________________________________\n",
      "conv2d_1 (Conv2D)               (None, 64, 96, 32)   832         zero_padding2d_1[0][0]           \n",
      "__________________________________________________________________________________________________\n",
      "leaky_re_lu_1 (LeakyReLU)       (None, 64, 96, 32)   0           conv2d_1[0][0]                   \n",
      "__________________________________________________________________________________________________\n",
      "conv2d_2 (Conv2D)               (None, 64, 96, 32)   25632       leaky_re_lu_1[0][0]              \n",
      "__________________________________________________________________________________________________\n",
      "max_pooling2d_1 (MaxPooling2D)  (None, 32, 48, 32)   0           conv2d_2[0][0]                   \n",
      "__________________________________________________________________________________________________\n",
      "leaky_re_lu_2 (LeakyReLU)       (None, 32, 48, 32)   0           max_pooling2d_1[0][0]            \n",
      "__________________________________________________________________________________________________\n",
      "batch_normalization_1 (BatchNor (None, 32, 48, 32)   128         leaky_re_lu_2[0][0]              \n",
      "__________________________________________________________________________________________________\n",
      "conv2d_3 (Conv2D)               (None, 32, 48, 64)   51264       batch_normalization_1[0][0]      \n",
      "__________________________________________________________________________________________________\n",
      "leaky_re_lu_3 (LeakyReLU)       (None, 32, 48, 64)   0           conv2d_3[0][0]                   \n",
      "__________________________________________________________________________________________________\n",
      "conv2d_4 (Conv2D)               (None, 32, 48, 64)   102464      leaky_re_lu_3[0][0]              \n",
      "__________________________________________________________________________________________________\n",
      "max_pooling2d_2 (MaxPooling2D)  (None, 16, 24, 64)   0           conv2d_4[0][0]                   \n",
      "__________________________________________________________________________________________________\n",
      "leaky_re_lu_4 (LeakyReLU)       (None, 16, 24, 64)   0           max_pooling2d_2[0][0]            \n",
      "__________________________________________________________________________________________________\n",
      "batch_normalization_2 (BatchNor (None, 16, 24, 64)   256         leaky_re_lu_4[0][0]              \n",
      "__________________________________________________________________________________________________\n",
      "conv2d_5 (Conv2D)               (None, 16, 24, 128)  204928      batch_normalization_2[0][0]      \n",
      "__________________________________________________________________________________________________\n",
      "leaky_re_lu_5 (LeakyReLU)       (None, 16, 24, 128)  0           conv2d_5[0][0]                   \n",
      "__________________________________________________________________________________________________\n",
      "conv2d_6 (Conv2D)               (None, 16, 24, 128)  409728      leaky_re_lu_5[0][0]              \n",
      "__________________________________________________________________________________________________\n",
      "max_pooling2d_3 (MaxPooling2D)  (None, 8, 12, 128)   0           conv2d_6[0][0]                   \n",
      "__________________________________________________________________________________________________\n",
      "leaky_re_lu_6 (LeakyReLU)       (None, 8, 12, 128)   0           max_pooling2d_3[0][0]            \n",
      "__________________________________________________________________________________________________\n",
      "batch_normalization_3 (BatchNor (None, 8, 12, 128)   512         leaky_re_lu_6[0][0]              \n",
      "__________________________________________________________________________________________________\n",
      "conv2d_7 (Conv2D)               (None, 8, 12, 128)   147584      batch_normalization_3[0][0]      \n",
      "__________________________________________________________________________________________________\n",
      "leaky_re_lu_7 (LeakyReLU)       (None, 8, 12, 128)   0           conv2d_7[0][0]                   \n",
      "__________________________________________________________________________________________________\n",
      "conv2d_8 (Conv2D)               (None, 8, 12, 128)   147584      leaky_re_lu_7[0][0]              \n",
      "__________________________________________________________________________________________________\n",
      "max_pooling2d_4 (MaxPooling2D)  (None, 4, 6, 128)    0           conv2d_8[0][0]                   \n",
      "__________________________________________________________________________________________________\n",
      "leaky_re_lu_8 (LeakyReLU)       (None, 4, 6, 128)    0           max_pooling2d_4[0][0]            \n",
      "__________________________________________________________________________________________________\n",
      "batch_normalization_4 (BatchNor (None, 4, 6, 128)    512         leaky_re_lu_8[0][0]              \n",
      "__________________________________________________________________________________________________\n",
      "conv2d_9 (Conv2D)               (None, 4, 6, 128)    147584      batch_normalization_4[0][0]      \n",
      "__________________________________________________________________________________________________\n",
      "leaky_re_lu_9 (LeakyReLU)       (None, 4, 6, 128)    0           conv2d_9[0][0]                   \n",
      "__________________________________________________________________________________________________\n",
      "conv2d_10 (Conv2D)              (None, 4, 6, 128)    147584      leaky_re_lu_9[0][0]              \n",
      "__________________________________________________________________________________________________\n",
      "max_pooling2d_5 (MaxPooling2D)  (None, 2, 3, 128)    0           conv2d_10[0][0]                  \n",
      "__________________________________________________________________________________________________\n",
      "leaky_re_lu_10 (LeakyReLU)      (None, 2, 3, 128)    0           max_pooling2d_5[0][0]            \n",
      "__________________________________________________________________________________________________\n",
      "batch_normalization_5 (BatchNor (None, 2, 3, 128)    512         leaky_re_lu_10[0][0]             \n",
      "__________________________________________________________________________________________________\n",
      "conv2d_11 (Conv2D)              (None, 2, 3, 128)    147584      batch_normalization_5[0][0]      \n",
      "__________________________________________________________________________________________________\n",
      "leaky_re_lu_11 (LeakyReLU)      (None, 2, 3, 128)    0           conv2d_11[0][0]                  \n",
      "__________________________________________________________________________________________________\n",
      "batch_normalization_6 (BatchNor (None, 2, 3, 128)    512         leaky_re_lu_11[0][0]             \n",
      "__________________________________________________________________________________________________\n",
      "conv2d_12 (Conv2D)              (None, 2, 3, 128)    147584      batch_normalization_6[0][0]      \n",
      "__________________________________________________________________________________________________\n",
      "leaky_re_lu_12 (LeakyReLU)      (None, 2, 3, 128)    0           conv2d_12[0][0]                  \n",
      "__________________________________________________________________________________________________\n",
      "batch_normalization_7 (BatchNor (None, 2, 3, 128)    512         leaky_re_lu_12[0][0]             \n",
      "__________________________________________________________________________________________________\n",
      "conv2d_transpose_1 (Conv2DTrans (None, 4, 6, 128)    409728      batch_normalization_7[0][0]      \n",
      "__________________________________________________________________________________________________\n",
      "concatenate_1 (Concatenate)     (None, 4, 6, 256)    0           batch_normalization_4[0][0]      \n",
      "                                                                 conv2d_transpose_1[0][0]         \n",
      "__________________________________________________________________________________________________\n",
      "leaky_re_lu_13 (LeakyReLU)      (None, 4, 6, 256)    0           concatenate_1[0][0]              \n",
      "__________________________________________________________________________________________________\n",
      "batch_normalization_8 (BatchNor (None, 4, 6, 256)    1024        leaky_re_lu_13[0][0]             \n",
      "__________________________________________________________________________________________________\n",
      "conv2d_transpose_2 (Conv2DTrans (None, 8, 12, 128)   819328      batch_normalization_8[0][0]      \n",
      "__________________________________________________________________________________________________\n",
      "concatenate_2 (Concatenate)     (None, 8, 12, 256)   0           batch_normalization_3[0][0]      \n",
      "                                                                 conv2d_transpose_2[0][0]         \n",
      "__________________________________________________________________________________________________\n",
      "leaky_re_lu_14 (LeakyReLU)      (None, 8, 12, 256)   0           concatenate_2[0][0]              \n",
      "__________________________________________________________________________________________________\n",
      "batch_normalization_9 (BatchNor (None, 8, 12, 256)   1024        leaky_re_lu_14[0][0]             \n",
      "__________________________________________________________________________________________________\n",
      "conv2d_transpose_3 (Conv2DTrans (None, 16, 24, 64)   409664      batch_normalization_9[0][0]      \n",
      "__________________________________________________________________________________________________\n",
      "concatenate_3 (Concatenate)     (None, 16, 24, 128)  0           batch_normalization_2[0][0]      \n",
      "                                                                 conv2d_transpose_3[0][0]         \n",
      "__________________________________________________________________________________________________\n",
      "leaky_re_lu_15 (LeakyReLU)      (None, 16, 24, 128)  0           concatenate_3[0][0]              \n",
      "__________________________________________________________________________________________________\n",
      "batch_normalization_10 (BatchNo (None, 16, 24, 128)  512         leaky_re_lu_15[0][0]             \n",
      "__________________________________________________________________________________________________\n",
      "conv2d_transpose_4 (Conv2DTrans (None, 32, 48, 64)   204864      batch_normalization_10[0][0]     \n",
      "__________________________________________________________________________________________________\n",
      "concatenate_4 (Concatenate)     (None, 32, 48, 96)   0           batch_normalization_1[0][0]      \n",
      "                                                                 conv2d_transpose_4[0][0]         \n",
      "__________________________________________________________________________________________________\n",
      "leaky_re_lu_16 (LeakyReLU)      (None, 32, 48, 96)   0           concatenate_4[0][0]              \n",
      "__________________________________________________________________________________________________\n",
      "batch_normalization_11 (BatchNo (None, 32, 48, 96)   384         leaky_re_lu_16[0][0]             \n",
      "__________________________________________________________________________________________________\n",
      "conv2d_transpose_5 (Conv2DTrans (None, 64, 96, 11)   26411       batch_normalization_11[0][0]     \n",
      "__________________________________________________________________________________________________\n",
      "leaky_re_lu_17 (LeakyReLU)      (None, 64, 96, 11)   0           conv2d_transpose_5[0][0]         \n",
      "__________________________________________________________________________________________________\n",
      "batch_normalization_12 (BatchNo (None, 64, 96, 11)   44          leaky_re_lu_17[0][0]             \n",
      "__________________________________________________________________________________________________\n",
      "conv2d_transpose_6 (Conv2DTrans (None, 64, 96, 11)   3036        batch_normalization_12[0][0]     \n",
      "__________________________________________________________________________________________________\n",
      "cropping2d_1 (Cropping2D)       (None, 64, 84, 11)   0           conv2d_transpose_6[0][0]         \n",
      "__________________________________________________________________________________________________\n",
      "activation_1 (Activation)       (None, 64, 84, 11)   0           cropping2d_1[0][0]               \n",
      "==================================================================================================\n",
      "Total params: 3,559,315\n",
      "Trainable params: 3,556,349\n",
      "Non-trainable params: 2,966\n",
      "__________________________________________________________________________________________________\n"
     ]
    }
   ],
   "source": [
    "inputs=keras.layers.Input((HEIGHT, WIDTH,1))\n",
    "\n",
    "x=keras.layers.ZeroPadding2D(((0, 0), (0, 96-WIDTH)))(inputs)\n",
    "\n",
    "layers = []\n",
    "\n",
    "for n, k, s in [(32, 5, 1),(64, 5, 1),(128, 5, 1),(128, 3, 1),(128, 3, 1)]:\n",
    "    x=keras.layers.Conv2D(n, kernel_size=k, strides=s, padding='same')(x)\n",
    "    x=keras.layers.LeakyReLU()(x)\n",
    "    x=keras.layers.Conv2D(n, kernel_size=k, strides=s, padding='same')(x)\n",
    "    x=keras.layers.MaxPooling2D(pool_size=3, strides=2, padding='same')(x)\n",
    "    x=keras.layers.LeakyReLU()(x)\n",
    "    x=keras.layers.BatchNormalization()(x)\n",
    "    layers.append(x)\n",
    "layers.pop()\n",
    "\n",
    "for n, k, s in [(128, 3, 1),(128, 3, 1)]:\n",
    "    x=keras.layers.Conv2D(n, kernel_size=k, strides=s, padding='same')(x)\n",
    "    x=keras.layers.LeakyReLU()(x)\n",
    "    x=keras.layers.BatchNormalization()(x)\n",
    "    \n",
    "for n, k, s in reversed([(N_CLASSES, 5, 2),(64, 5, 2),(64, 5, 2),(128, 5, 2),(128, 5, 2)]):\n",
    "    x=keras.layers.Conv2DTranspose(n, kernel_size=k, strides=s, padding='same')(x)\n",
    "    if len(layers)>0:\n",
    "        l = layers.pop()\n",
    "        x=keras.layers.concatenate([l, x])\n",
    "    x=keras.layers.LeakyReLU()(x)\n",
    "    x=keras.layers.BatchNormalization()(x)\n",
    "    \n",
    "x=keras.layers.Conv2DTranspose(N_CLASSES, kernel_size=5, strides=1, padding='same')(x)\n",
    "x=keras.layers.Cropping2D(((0, 0), (0, 96-WIDTH)))(x)\n",
    "outputs = keras.layers.Activation('softmax')(x)\n",
    "\n",
    "model = keras.models.Model(inputs=inputs, outputs=outputs)\n",
    "model.summary()"
   ]
  },
  {
   "cell_type": "code",
   "execution_count": null,
   "metadata": {},
   "outputs": [],
   "source": [
    "datagen = keras.preprocessing.image.ImageDataGenerator(rotation_range=10.0,\n",
    "                                                       width_shift_range=2,\n",
    "                                                       height_shift_range=2,\n",
    "                                                       shear_range=0.0,\n",
    "                                                       zoom_range=0.1,\n",
    "                                                       data_format='channels_last',\n",
    "                                                       validation_split=0.1\n",
    "                                                      )"
   ]
  },
  {
   "cell_type": "code",
   "execution_count": null,
   "metadata": {},
   "outputs": [],
   "source": [
    "# model.compile(loss='categorical_crossentropy',\n",
    "#               optimizer=keras.optimizers.Adam(0.001),\n",
    "#               metrics=['accuracy'])\n",
    "\n",
    "# epochs = 30\n",
    "# batch_size = 25\n",
    "# model_name = input(\"Specify a name for the model to be saved: \")\n",
    "# model.fit_generator(zip(datagen.flow(mnist_inputs, batch_size=batch_size, subset='training', seed=1), datagen.flow(mnist_labels, batch_size=batch_size, subset='training', seed=1)),\n",
    "#                     epochs=epochs, \n",
    "#                     steps_per_epoch = len(mnist_inputs)//batch_size,\n",
    "#                     validation_data=zip(datagen.flow(mnist_inputs, batch_size=batch_size, subset='validation', seed=1), datagen.flow(mnist_labels, batch_size=batch_size, subset='validation', seed=1)),\n",
    "#                     validation_steps=50,\n",
    "#                     #callbacks=[keras.callbacks.EarlyStopping(monitor='val_acc', min_delta=0, patience=2, verbose=0, mode='auto')],\n",
    "#                     verbose=2\n",
    "#          )"
   ]
  },
  {
   "cell_type": "code",
   "execution_count": null,
   "metadata": {},
   "outputs": [],
   "source": [
    "model.save(model_name)"
   ]
  },
  {
   "cell_type": "code",
   "execution_count": null,
   "metadata": {},
   "outputs": [],
   "source": [
    "model = tf.keras.models.load_model('mnist_segmentation.model')   #Load Model"
   ]
  },
  {
   "cell_type": "code",
   "execution_count": null,
   "metadata": {},
   "outputs": [],
   "source": [
    "N_TEST = 1\n",
    "SEED = np.random.randint(0, 1000)\n",
    "originals = next(datagen.flow(mnist_inputs, batch_size=N_TEST, subset='validation', seed=SEED))\n",
    "ground_truth = next(datagen.flow(mnist_labels, batch_size=N_TEST, subset='validation', seed=SEED))\n",
    "predicted = model.predict_on_batch(originals)\n",
    "predicted = np.round(predicted).astype(np.int)\n",
    "plt.figure(figsize=(20, 5))\n",
    "np.set_printoptions(threshold=sys.maxsize)\n",
    "for i in range(N_TEST):\n",
    "    plt.subplot(4, N_TEST, i+1)\n",
    "    plt.imshow(originals[i].reshape((HEIGHT, WIDTH)))\n",
    "    plt.subplot(4, N_TEST, i+1+N_TEST)\n",
    "    plt.imshow(np.argmax(predicted[i], axis=2), vmax=10, vmin=0)\n",
    "    plt.subplot(4, N_TEST, i+1+2*N_TEST)\n",
    "    plt.imshow(np.argmax(ground_truth[i], axis=2), vmax=10, vmin=0)\n",
    "    plt.subplot(4, N_TEST, i+1+3*N_TEST)\n",
    "    plt.imshow(np.any(predicted[i]-ground_truth[i], axis=2))\n",
    "    for j in range(10):\n",
    "        if (predicted[:,:,:,j].sum(1).sum() >= 50):\n",
    "            print(\"Detected a: \" + str(j))\n",
    "        "
   ]
  },
  {
   "cell_type": "code",
   "execution_count": null,
   "metadata": {},
   "outputs": [],
   "source": [
    "# plt.imshow(mnist_inputs[1].reshape(64,84))\n",
    "plt.figure()\n",
    "plt.imshow(np.round(mnist_inputs[1].reshape(64,84)).astype('uint8'), cmap='gray')\n",
    "kernel = np.ones((2,2),np.uint8)\n",
    "dilation = cv2.dilate(np.round(mnist_inputs[1].reshape(64,84)).astype('uint8'),kernel,iterations = 1)\n",
    "plt.figure()\n",
    "plt.imshow(dilation, cmap='gray')"
   ]
  },
  {
   "cell_type": "code",
   "execution_count": null,
   "metadata": {},
   "outputs": [],
   "source": [
    "np.argmax(originals[0],axis=2)"
   ]
  },
  {
   "cell_type": "code",
   "execution_count": null,
   "metadata": {},
   "outputs": [],
   "source": [
    "predicted[:,:,:,3]"
   ]
  },
  {
   "cell_type": "code",
   "execution_count": null,
   "metadata": {},
   "outputs": [],
   "source": [
    "predicted[:,:,:,j].sum(1).sum()"
   ]
  },
  {
   "cell_type": "code",
   "execution_count": null,
   "metadata": {},
   "outputs": [],
   "source": [
    "    for j in range(10):\n",
    "        if (predicted[:,:,:,j].sum(1).sum() >= 30):\n",
    "            print(\"Detected a: \" + str(j))"
   ]
  },
  {
   "cell_type": "code",
   "execution_count": 6,
   "metadata": {},
   "outputs": [
    {
     "data": {
      "text/plain": [
       "<matplotlib.image.AxesImage at 0x1612bb7c630>"
      ]
     },
     "execution_count": 6,
     "metadata": {},
     "output_type": "execute_result"
    },
    {
     "data": {
      "image/png": "[encoded data removed]",
      "text/plain": [
       "<Figure size 432x288 with 1 Axes>"
      ]
     },
     "metadata": {
      "needs_background": "light"
     },
     "output_type": "display_data"
    }
   ],
   "source": [
    "plt.imshow(mnist_inputs[9990].reshape(64,84),cmap='gray')"
   ]
  },
  {
   "cell_type": "code",
   "execution_count": null,
   "metadata": {},
   "outputs": [],
   "source": [
    ".shape"
   ]
  },
  {
   "cell_type": "code",
   "execution_count": null,
   "metadata": {},
   "outputs": [],
   "source": [
    "mnist_inputs.shape"
   ]
  },
  {
   "cell_type": "code",
   "execution_count": null,
   "metadata": {},
   "outputs": [],
   "source": []
  }
 ],
 "metadata": {
  "kernelspec": {
   "display_name": "Python 3",
   "language": "python",
   "name": "python3"
  },
  "language_info": {
   "codemirror_mode": {
    "name": "ipython",
    "version": 3
   },
   "file_extension": ".py",
   "mimetype": "text/x-python",
   "name": "python",
   "nbconvert_exporter": "python",
   "pygments_lexer": "ipython3",
   "version": "3.6.8"
  }
 },
 "nbformat": 4,
 "nbformat_minor": 2
}
