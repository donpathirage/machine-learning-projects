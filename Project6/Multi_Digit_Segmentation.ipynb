{
 "cells": [
  {
   "cell_type": "code",
   "execution_count": null,
   "metadata": {},
   "outputs": [],
   "source": [
    "import numpy as np # linear algebra\n",
    "import pandas as pd # data processing, CSV file I/O (e.g. pd.read_csv)\n",
    "import matplotlib.pyplot as plt\n",
    "import keras\n",
    "import sklearn\n",
    "import sklearn.preprocessing\n",
    "from sklearn.model_selection import train_test_split\n",
    "import os\n",
    "\n",
    "segmented = np.load(\"segmented.npy\")\n",
    "_, HEIGHT, WIDTH, N_CLASSES = segmented.shape\n",
    "combined = np.load(\"combined.npy\").reshape((-1, HEIGHT, WIDTH, 1))/255"
   ]
  },
  {
   "cell_type": "code",
   "execution_count": null,
   "metadata": {},
   "outputs": [],
   "source": [
    "inputs=keras.layers.Input((HEIGHT, WIDTH,1))\n",
    "x=keras.layers.ZeroPadding2D(((0, 0), (0, 96-WIDTH)))(inputs)\n",
    "layers = []\n",
    "for n, k, s in [(32, 5, 1),(64, 5, 1),(128, 5, 1),(128, 3, 1),(128, 3, 1)]:\n",
    "    x=keras.layers.Conv2D(n, kernel_size=k, strides=s, padding='same')(x)\n",
    "    x=keras.layers.LeakyReLU()(x)\n",
    "    x=keras.layers.Conv2D(n, kernel_size=k, strides=s, padding='same')(x)\n",
    "    x=keras.layers.MaxPooling2D(pool_size=3, strides=2, padding='same')(x)\n",
    "    x=keras.layers.LeakyReLU()(x)\n",
    "    x=keras.layers.BatchNormalization()(x)\n",
    "    layers.append(x)\n",
    "layers.pop()\n",
    "for n, k, s in [(128, 3, 1),(128, 3, 1)]:\n",
    "    x=keras.layers.Conv2D(n, kernel_size=k, strides=s, padding='same')(x)\n",
    "    x=keras.layers.LeakyReLU()(x)\n",
    "    x=keras.layers.BatchNormalization()(x)\n",
    "for n, k, s in reversed([(N_CLASSES, 5, 2),(64, 5, 2),(64, 5, 2),(128, 5, 2),(128, 5, 2)]):\n",
    "    x=keras.layers.Conv2DTranspose(n, kernel_size=k, strides=s, padding='same')(x)\n",
    "    if len(layers)>0:\n",
    "        l = layers.pop()\n",
    "        x=keras.layers.concatenate([l, x])\n",
    "    x=keras.layers.LeakyReLU()(x)\n",
    "    x=keras.layers.BatchNormalization()(x)\n",
    "x=keras.layers.Conv2DTranspose(N_CLASSES, kernel_size=5, strides=1, padding='same')(x)\n",
    "x=keras.layers.Cropping2D(((0, 0), (0, 96-WIDTH)))(x)\n",
    "outputs = keras.layers.Activation('softmax')(x)\n",
    "model = keras.models.Model(inputs=inputs, outputs=outputs)\n",
    "model.summary()"
   ]
  },
  {
   "cell_type": "code",
   "execution_count": null,
   "metadata": {},
   "outputs": [],
   "source": [
    "model.compile(loss='categorical_crossentropy',\n",
    "              optimizer=keras.optimizers.Adam(0.001),\n",
    "              metrics=['accuracy'])\n",
    "\n",
    "datagen = keras.preprocessing.image.ImageDataGenerator(rotation_range=10.0,\n",
    "                                                       width_shift_range=2,\n",
    "                                                       height_shift_range=2,\n",
    "                                                       shear_range=0.0,\n",
    "                                                       zoom_range=0.1,\n",
    "                                                       data_format='channels_last',\n",
    "                                                       validation_split=0.1\n",
    "                                                      )\n",
    "\n",
    "epochs = 30\n",
    "batch_size = 50\n",
    "model.fit_generator(zip(datagen.flow(combined, batch_size=batch_size, subset='training', seed=1), datagen.flow(segmented, batch_size=batch_size, subset='training', seed=1)),\n",
    "                    epochs=epochs, \n",
    "                    steps_per_epoch = len(combined)//batch_size,\n",
    "                    validation_data=zip(datagen.flow(combined, batch_size=batch_size, subset='validation', seed=1), datagen.flow(segmented, batch_size=batch_size, subset='validation', seed=1)),\n",
    "                    validation_steps=50,\n",
    "                    #callbacks=[keras.callbacks.EarlyStopping(monitor='val_acc', min_delta=0, patience=2, verbose=0, mode='auto')],\n",
    "                    verbose=2\n",
    "         )"
   ]
  },
  {
   "cell_type": "code",
   "execution_count": null,
   "metadata": {},
   "outputs": [],
   "source": [
    "N_TEST = 10\n",
    "SEED = np.random.randint(0, 1000)\n",
    "originals = next(datagen.flow(combined, batch_size=N_TEST, subset='validation', seed=SEED))\n",
    "ground_truth = next(datagen.flow(segmented, batch_size=N_TEST, subset='validation', seed=SEED))\n",
    "predicted = model.predict_on_batch(originals)\n",
    "predicted = np.round(predicted).astype(np.int)\n",
    "plt.figure(figsize=(20, 5))\n",
    "np.set_printoptions(threshold=np.nan)\n",
    "for i in range(N_TEST):\n",
    "    plt.subplot(4, N_TEST, i+1)\n",
    "    plt.imshow(originals[i].reshape((HEIGHT, WIDTH)))\n",
    "    plt.subplot(4, N_TEST, i+1+N_TEST)\n",
    "    plt.imshow(np.argmax(predicted[i], axis=2), vmax=10, vmin=0)\n",
    "    plt.subplot(4, N_TEST, i+1+2*N_TEST)\n",
    "    plt.imshow(np.argmax(ground_truth[i], axis=2), vmax=10, vmin=0)\n",
    "    plt.subplot(4, N_TEST, i+1+3*N_TEST)\n",
    "    plt.imshow(np.any(predicted[i]-ground_truth[i], axis=2))"
   ]
  }
 ],
 "metadata": {
  "kernelspec": {
   "display_name": "Python 3",
   "language": "python",
   "name": "python3"
  },
  "language_info": {
   "codemirror_mode": {
    "name": "ipython",
    "version": 3
   },
   "file_extension": ".py",
   "mimetype": "text/x-python",
   "name": "python",
   "nbconvert_exporter": "python",
   "pygments_lexer": "ipython3",
   "version": "3.6.8"
  }
 },
 "nbformat": 4,
 "nbformat_minor": 2
}
